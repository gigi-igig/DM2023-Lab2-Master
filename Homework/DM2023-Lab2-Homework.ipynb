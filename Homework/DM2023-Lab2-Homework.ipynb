{
  "cells": [
    {
      "cell_type": "markdown",
      "source": [
        "Student Information\n",
        "\n",
        "Name: 鄭竹淇\n",
        "\n",
        "Student ID: 109020032\n",
        "\n",
        "GitHub ID: gigi-igig\n",
        "\n",
        "Kaggle name: gigicc\n",
        "\n",
        "Kaggle private scoreboard snapshot:49/99\n",
        "\n",
        "[Snapshot](pic0.png)"
      ],
      "metadata": {
        "id": "W7d1pStljFPU"
      }
    },
    {
      "cell_type": "markdown",
      "metadata": {
        "id": "LIpAqCvMYTpX"
      },
      "source": [
        "#import package"
      ]
    },
    {
      "cell_type": "code",
      "source": [
        "import sys\n",
        "from google.colab import drive\n",
        "import numpy as np\n",
        "import pandas as pd\n",
        "import copy\n",
        "import json as js\n",
        "import itertools\n",
        "import keras\n",
        "from keras.models import Model\n",
        "from keras.layers import Input, Dense\n",
        "from keras.layers import ReLU, Softmax\n",
        "from keras.callbacks import CSVLogger\n",
        "import seaborn as sns\n",
        "import matplotlib.pyplot as plt\n",
        "%matplotlib inline\n",
        "\n",
        "import gensim\n",
        "from gensim.models import KeyedVectors\n",
        "from gensim.models import Word2Vec\n",
        "from sklearn.metrics import classification_report\n",
        "from sklearn.metrics import accuracy_score\n",
        "from sklearn.metrics import confusion_matrix\n",
        "from sklearn.preprocessing import LabelEncoder\n",
        "from sklearn.feature_extraction.text import CountVectorizer\n",
        "from sklearn.model_selection import train_test_split\n",
        "\n",
        "from xgboost import XGBClassifier\n",
        "from xgboost.training import train\n",
        "\n",
        "import nltk\n",
        "nltk.download('punkt')\n",
        "import warnings\n",
        "warnings.filterwarnings('ignore')"
      ],
      "metadata": {
        "colab": {
          "base_uri": "https://localhost:8080/"
        },
        "id": "PiYxU4padNvE",
        "outputId": "7397ce34-7cb3-4c5a-db5c-e2569f36d5f1"
      },
      "execution_count": 1,
      "outputs": [
        {
          "output_type": "stream",
          "name": "stderr",
          "text": [
            "[nltk_data] Downloading package punkt to /root/nltk_data...\n",
            "[nltk_data]   Unzipping tokenizers/punkt.zip.\n"
          ]
        }
      ]
    },
    {
      "cell_type": "markdown",
      "metadata": {
        "id": "uuutyCx4YTpX"
      },
      "source": [
        "# Take Home"
      ]
    },
    {
      "cell_type": "markdown",
      "metadata": {
        "id": "op_X7pR-YTpX"
      },
      "source": [
        "---\n",
        "## 1. Data Preparation"
      ]
    },
    {
      "cell_type": "markdown",
      "metadata": {
        "id": "ID-8I1ELYTpX"
      },
      "source": [
        "Before beggining the lab, please make sure to download the [Google News Dataset](https://drive.google.com/file/d/0B7XkCwpI5KDYNlNUTTlSS21pQmM/edit) and place it in a folder named \"GoogleNews\" in the same directory as this file."
      ]
    },
    {
      "cell_type": "markdown",
      "metadata": {
        "id": "pgoEbZzSYTpX"
      },
      "source": [
        "### 1.1 Load data\n",
        "\n",
        "We start by loading the csv files into a single pandas dataframe for training and one for testing."
      ]
    },
    {
      "cell_type": "code",
      "source": [
        "#the path from colab\n",
        "drive.mount('/content/drive')\n",
        "path='/content/drive/My Drive/data mining/DM2023-Lab2-Master-main/'"
      ],
      "metadata": {
        "colab": {
          "base_uri": "https://localhost:8080/"
        },
        "id": "Jcdqxs4cR_AV",
        "outputId": "70fe1794-e4c9-4c96-98e1-a3a0e7ab071c"
      },
      "execution_count": 2,
      "outputs": [
        {
          "output_type": "stream",
          "name": "stdout",
          "text": [
            "Mounted at /content/drive\n"
          ]
        }
      ]
    },
    {
      "cell_type": "code",
      "execution_count": 3,
      "metadata": {
        "id": "anfjcPSSYTpX"
      },
      "outputs": [],
      "source": [
        "import pandas as pd\n",
        "\n",
        "### training data\n",
        "anger_train = pd.read_csv(path+\"data/semeval/train/anger-ratings-0to1.train.txt\",\n",
        "                         sep=\"\\t\", header=None,names=[\"id\", \"text\", \"emotion\", \"intensity\"])\n",
        "sadness_train = pd.read_csv(path+\"data/semeval/train/sadness-ratings-0to1.train.txt\",\n",
        "                         sep=\"\\t\", header=None, names=[\"id\", \"text\", \"emotion\", \"intensity\"])\n",
        "fear_train = pd.read_csv(path+\"data/semeval/train/fear-ratings-0to1.train.txt\",\n",
        "                         sep=\"\\t\", header=None, names=[\"id\", \"text\", \"emotion\", \"intensity\"])\n",
        "joy_train = pd.read_csv(path+\"data/semeval/train/joy-ratings-0to1.train.txt\",\n",
        "                         sep=\"\\t\", header=None, names=[\"id\", \"text\", \"emotion\", \"intensity\"])"
      ]
    },
    {
      "cell_type": "code",
      "execution_count": 4,
      "metadata": {
        "id": "yVc2T5MIYTpX"
      },
      "outputs": [],
      "source": [
        "# combine 4 sub-dataset\n",
        "train_df = pd.concat([anger_train, fear_train, joy_train, sadness_train], ignore_index=True)"
      ]
    },
    {
      "cell_type": "code",
      "execution_count": 5,
      "metadata": {
        "id": "Kw8bGMv7YTpX"
      },
      "outputs": [],
      "source": [
        "### testing data\n",
        "anger_test = pd.read_csv(path+\"data/semeval/dev/anger-ratings-0to1.dev.gold.txt\",\n",
        "                         sep=\"\\t\", header=None, names=[\"id\", \"text\", \"emotion\", \"intensity\"])\n",
        "sadness_test = pd.read_csv(path+\"data/semeval/dev/sadness-ratings-0to1.dev.gold.txt\",\n",
        "                         sep=\"\\t\", header=None, names=[\"id\", \"text\", \"emotion\", \"intensity\"])\n",
        "fear_test = pd.read_csv(path+\"data/semeval/dev/fear-ratings-0to1.dev.gold.txt\",\n",
        "                         sep=\"\\t\", header=None, names=[\"id\", \"text\", \"emotion\", \"intensity\"])\n",
        "joy_test = pd.read_csv(path+\"data/semeval/dev/joy-ratings-0to1.dev.gold.txt\",\n",
        "                         sep=\"\\t\", header=None, names=[\"id\", \"text\", \"emotion\", \"intensity\"])\n",
        "\n",
        "# combine 4 sub-dataset\n",
        "test_df = pd.concat([anger_test, fear_test, joy_test, sadness_test], ignore_index=True)\n",
        "# shuffle dataset\n",
        "train_df = train_df.sample(frac=1, random_state=42)\n",
        "test_df = test_df.sample(frac=1, random_state=42)"
      ]
    },
    {
      "cell_type": "markdown",
      "metadata": {
        "id": "_hr8aKhlYTpo"
      },
      "source": [
        "---\n",
        "### 1.2 Save data"
      ]
    },
    {
      "cell_type": "markdown",
      "metadata": {
        "id": "Zm6GF2VvYTpo"
      },
      "source": [
        "We will save our data in Pickle format. The pickle module implements binary protocols for serializing and de-serializing a Python object structure.   \n",
        "  \n",
        "Some advantages for using pickle structure:  \n",
        "* Because it stores the attribute type, it's more convenient for cross-platform use.  \n",
        "* When your data is huge, it could use less space to store also consume less loading time.   "
      ]
    },
    {
      "cell_type": "code",
      "execution_count": 6,
      "metadata": {
        "id": "dZzepBdpYTpo"
      },
      "outputs": [],
      "source": [
        "## save to pickle file\n",
        "train_df.to_pickle(\"train_df.pkl\")\n",
        "test_df.to_pickle(\"test_df.pkl\")\n",
        "## load a pickle file\n",
        "train_df = pd.read_pickle(\"train_df.pkl\")\n",
        "test_df = pd.read_pickle(\"test_df.pkl\")"
      ]
    },
    {
      "cell_type": "markdown",
      "metadata": {
        "id": "escCgU1zYTpX"
      },
      "source": [
        "## Exercise 1 (Take home):\n",
        "Plot word frequency for Top 30 words in both train and test dataset. (Hint: refer to DM lab 1)\n"
      ]
    },
    {
      "cell_type": "code",
      "execution_count": 7,
      "metadata": {
        "id": "HoXjet3pYTpo",
        "colab": {
          "base_uri": "https://localhost:8080/",
          "height": 0
        },
        "outputId": "c53886cc-4dbf-463f-f970-a68ddc7b1cd7"
      },
      "outputs": [
        {
          "output_type": "execute_result",
          "data": {
            "text/plain": [
              "Text(0.5, 1.0, 'top 30 words in test')"
            ]
          },
          "metadata": {},
          "execution_count": 7
        },
        {
          "output_type": "display_data",
          "data": {
            "text/plain": [
              "<Figure size 1500x300 with 1 Axes>"
            ],
            "image/png": "[encoded data removed]"
          },
          "metadata": {}
        },
        {
          "output_type": "display_data",
          "data": {
            "text/plain": [
              "<Figure size 1500x300 with 1 Axes>"
            ],
            "image/png": "[encoded data removed]"
          },
          "metadata": {}
        }
      ],
      "source": [
        "# Answer here\n",
        "\n",
        "# train data\n",
        "count_vect = CountVectorizer()\n",
        "train_counts = count_vect.fit_transform(train_df.text)\n",
        "train_freq = np.asarray(train_counts.sum(axis=0))[0]\n",
        "train_freq_id = np.argsort(-train_freq)\n",
        "train_freq_name=count_vect.get_feature_names_out()[train_freq_id]\n",
        "# plot\n",
        "plt.subplots(figsize=(15, 3))\n",
        "g = sns.barplot(x=train_freq_name[:30], y=train_freq[train_freq_id[:30]])\n",
        "g.set_xticklabels(train_freq_name[:30], rotation = 0, fontsize=10);\n",
        "g.set_title('top 30 words in train')\n",
        "\n",
        "# test data\n",
        "count_vect = CountVectorizer()\n",
        "test_counts = count_vect.fit_transform(test_df.text)\n",
        "test_freq = np.asarray(test_counts.sum(axis=0))[0]\n",
        "test_freq_id = np.argsort(-test_freq)\n",
        "test_freq_name=count_vect.get_feature_names_out()[test_freq_id]\n",
        "# plot\n",
        "plt.subplots(figsize=(15, 3))\n",
        "g = sns.barplot(x=test_freq_name[:30], y=test_freq[test_freq_id[:30]])\n",
        "g.set_xticklabels(test_freq_name[:30], rotation = 0, fontsize=10);\n",
        "g.set_title('top 30 words in test')"
      ]
    },
    {
      "cell_type": "markdown",
      "metadata": {
        "id": "hgHvhTJuYTpo"
      },
      "source": [
        "## 2. Feature engineering\n",
        "### Using Bag of Words\n",
        "Using scikit-learn ```CountVectorizer``` perform word frequency and use these as features to train a model.  \n",
        "http://scikit-learn.org/stable/modules/generated/sklearn.feature_extraction.text.CountVectorizer.html"
      ]
    },
    {
      "cell_type": "code",
      "execution_count": 8,
      "metadata": {
        "id": "rbl89LPUYTpo"
      },
      "outputs": [],
      "source": [
        "# build analyzers (bag-of-words)\n",
        "BOW_vectorizer = CountVectorizer()\n",
        "\n",
        "# 1. Learn a vocabulary dictionary of all tokens in the raw documents.\n",
        "BOW_vectorizer.fit(train_df['text'])\n",
        "\n",
        "# 2. Transform documents to document-term matrix.\n",
        "train_data_BOW_features = BOW_vectorizer.transform(train_df['text'])\n",
        "test_data_BOW_features = BOW_vectorizer.transform(test_df['text'])\n",
        "# observe some feature names\n",
        "feature_names = BOW_vectorizer.get_feature_names_out()"
      ]
    },
    {
      "cell_type": "markdown",
      "metadata": {
        "id": "0MFzyA95YTpo"
      },
      "source": [
        "Let's try using another tokenizer below."
      ]
    },
    {
      "cell_type": "code",
      "execution_count": 9,
      "metadata": {
        "id": "SttodxACYTpo"
      },
      "outputs": [],
      "source": [
        "\n",
        "# build analyzers (bag-of-words)\n",
        "BOW_500 = CountVectorizer(max_features=500, tokenizer=nltk.word_tokenize)\n",
        "\n",
        "# apply analyzer to training data\n",
        "BOW_500.fit(train_df['text'])\n",
        "\n",
        "train_data_BOW_features_500 = BOW_500.transform(train_df['text'])\n",
        "\n",
        "# observe some feature names\n",
        "feature_names_500 = BOW_500.get_feature_names_out()"
      ]
    },
    {
      "cell_type": "markdown",
      "metadata": {
        "id": "fj6TV4ngYTpo"
      },
      "source": [
        "##Exercise 2 (Take home):\n",
        "Generate an embedding using the TF-IDF vectorizer instead of th BOW one with 1000 features and show the feature names for features [100:110]."
      ]
    },
    {
      "cell_type": "code",
      "execution_count": 10,
      "metadata": {
        "id": "BOjVbgmxYTpo",
        "colab": {
          "base_uri": "https://localhost:8080/"
        },
        "outputId": "e88b886d-b9b9-420b-e642-a11d3b71a196"
      },
      "outputs": [
        {
          "output_type": "stream",
          "name": "stdout",
          "text": [
            "the shape of train_data_tf_features_1000:  (3613, 1000)\n"
          ]
        },
        {
          "output_type": "execute_result",
          "data": {
            "text/plain": [
              "array(['bitter', 'black', 'blacks', 'blame', 'blessed', 'blood', 'bloody',\n",
              "       'blues', 'body', 'boiling'], dtype=object)"
            ]
          },
          "metadata": {},
          "execution_count": 10
        }
      ],
      "source": [
        "# Answer here\n",
        "from sklearn.feature_extraction.text import TfidfVectorizer\n",
        "tf_1000 = TfidfVectorizer(max_features=1000)\n",
        "tf_1000.fit(train_df['text'])\n",
        "train_data_tf_features_1000 = tf_1000.transform(train_df['text'])\n",
        "print(\"the shape of train_data_tf_features_1000: \", train_data_tf_features_1000.shape)\n",
        "feature_names_1000 = tf_1000.get_feature_names_out()\n",
        "feature_names_1000[100:110]"
      ]
    },
    {
      "cell_type": "markdown",
      "metadata": {
        "id": "e0BvbNAVYTpo"
      },
      "source": [
        "---\n",
        "## 3. Model\n",
        "### 3.1 Decision Trees\n",
        "Using scikit-learn ```DecisionTreeClassifier``` performs word frequency and uses these as features to train a model.  \n",
        "http://scikit-learn.org/stable/modules/generated/sklearn.tree.DecisionTreeClassifier.html#sklearn.tree.DecisionTreeClassifier"
      ]
    },
    {
      "cell_type": "code",
      "execution_count": 11,
      "metadata": {
        "id": "SD0rMWKgYTpo"
      },
      "outputs": [],
      "source": [
        "from sklearn.tree import DecisionTreeClassifier\n",
        "\n",
        "# for a classificaiton problem, you need to provide both training & testing data\n",
        "X_train = BOW_500.transform(train_df['text'])\n",
        "y_train = train_df['emotion']\n",
        "\n",
        "X_test = BOW_500.transform(test_df['text'])\n",
        "y_test = test_df['emotion']\n"
      ]
    },
    {
      "cell_type": "code",
      "execution_count": 12,
      "metadata": {
        "id": "iDuvLf7TYTpo"
      },
      "outputs": [],
      "source": [
        "## build DecisionTree model\n",
        "DT_model = DecisionTreeClassifier(random_state=1)\n",
        "\n",
        "## training!\n",
        "DT_model = DT_model.fit(X_train, y_train)\n",
        "\n",
        "## predict!\n",
        "y_train_pred = DT_model.predict(X_train)\n",
        "y_test_pred = DT_model.predict(X_test)\n"
      ]
    },
    {
      "cell_type": "markdown",
      "metadata": {
        "id": "iBNmBT50YTpo"
      },
      "source": [
        "---\n",
        "## 4. Results Evaluation"
      ]
    },
    {
      "cell_type": "markdown",
      "metadata": {
        "id": "-gQU_PbhYTpo"
      },
      "source": [
        "Now we will check the results of our model's performance"
      ]
    },
    {
      "cell_type": "code",
      "execution_count": 13,
      "metadata": {
        "id": "A9yx3tv-YTpo"
      },
      "outputs": [],
      "source": [
        "## accuracy\n",
        "acc_train = accuracy_score(y_true=y_train, y_pred=y_train_pred)\n",
        "acc_test = accuracy_score(y_true=y_test, y_pred=y_test_pred)\n",
        "## precision, recall, f1-score,\n",
        "#print(classification_report(y_true=y_test, y_pred=y_test_pred))"
      ]
    },
    {
      "cell_type": "code",
      "execution_count": 14,
      "metadata": {
        "id": "N6mhrmKHYTpo"
      },
      "outputs": [],
      "source": [
        "## check by confusion matrix\n",
        "cm = confusion_matrix(y_true=y_test, y_pred=y_test_pred)"
      ]
    },
    {
      "cell_type": "code",
      "execution_count": 15,
      "metadata": {
        "id": "-TcX8NA5YTpo"
      },
      "outputs": [],
      "source": [
        "# Funciton for visualizing confusion_matrix\n",
        "\n",
        "def plot_confusion_matrix(cm, classes, title='Confusion matrix',\n",
        "                          cmap=sns.cubehelix_palette(as_cmap=True)):\n",
        "    \"\"\"\n",
        "    This function is modified from:\n",
        "    http://scikit-learn.org/stable/auto_examples/model_selection/plot_confusion_matrix.html\n",
        "    \"\"\"\n",
        "    classes.sort()\n",
        "    tick_marks = np.arange(len(classes))\n",
        "\n",
        "    fig, ax = plt.subplots(figsize=(5,5))\n",
        "    im = ax.imshow(cm, interpolation='nearest', cmap=cmap)\n",
        "    ax.figure.colorbar(im, ax=ax)\n",
        "    ax.set(xticks=np.arange(cm.shape[1]),\n",
        "           yticks=np.arange(cm.shape[0]),\n",
        "           xticklabels = classes,\n",
        "           yticklabels = classes,\n",
        "           title = title,\n",
        "           xlabel = 'True label',\n",
        "           ylabel = 'Predicted label')\n",
        "\n",
        "    #fmt = 'd'\n",
        "    thresh = cm.max() / 2.\n",
        "    for i, j in itertools.product(range(cm.shape[0]), range(cm.shape[1])):\n",
        "        #plt.text(j, i, format(cm[i, j], fmt), horizontalalignment=\"center\", color=\"white\" if cm[i, j] > thresh else \"black\")\n",
        "        plt.text(j, i, format(cm[i, j]), horizontalalignment=\"center\", color=\"white\" if cm[i, j] > thresh else \"black\")\n",
        "    ylim_top = len(classes) - 0.5\n",
        "    plt.ylim([ylim_top, -.5])\n",
        "    plt.tight_layout()\n",
        "    plt.show()"
      ]
    },
    {
      "cell_type": "code",
      "execution_count": 16,
      "metadata": {
        "colab": {
          "base_uri": "https://localhost:8080/",
          "height": 0
        },
        "id": "1nBVOUpDYTpo",
        "outputId": "54a59f60-cc38-4df8-8146-221bb02ed99a"
      },
      "outputs": [
        {
          "output_type": "display_data",
          "data": {
            "text/plain": [
              "<Figure size 500x500 with 2 Axes>"
            ],
            "image/png": "[encoded data removed]"
          },
          "metadata": {}
        }
      ],
      "source": [
        "# plot your confusion matrix\n",
        "my_tags = ['anger', 'fear', 'joy', 'sadness']\n",
        "plot_confusion_matrix(cm, classes=my_tags, title='Confusion matrix')"
      ]
    },
    {
      "cell_type": "markdown",
      "metadata": {
        "id": "l743vmwgYTpo"
      },
      "source": [
        "##Exercise 3 (Take home):\n",
        "Can you interpret the results above? What do they mean?"
      ]
    },
    {
      "cell_type": "code",
      "execution_count": 17,
      "metadata": {
        "id": "8pYICOxsYTpo",
        "colab": {
          "base_uri": "https://localhost:8080/",
          "height": 0
        },
        "outputId": "f422dbb1-a258-47c2-a901-f0cca72aec95"
      },
      "outputs": [
        {
          "output_type": "stream",
          "name": "stdout",
          "text": [
            "              precision    recall  f1-score   support\n",
            "\n",
            "       anger       0.66      0.68      0.67        84\n",
            "        fear       0.66      0.69      0.67       110\n",
            "         joy       0.72      0.71      0.71        79\n",
            "     sadness       0.70      0.64      0.67        74\n",
            "\n",
            "    accuracy                           0.68       347\n",
            "   macro avg       0.68      0.68      0.68       347\n",
            "weighted avg       0.68      0.68      0.68       347\n",
            "\n"
          ]
        },
        {
          "output_type": "display_data",
          "data": {
            "text/plain": [
              "<Figure size 500x500 with 2 Axes>"
            ],
            "image/png": "[encoded data removed]"
          },
          "metadata": {}
        }
      ],
      "source": [
        "# Answer here\n",
        "# In this result, label_\"fear\" has most correct data, because it has max support. However label_\"joy\" has higher precsision and recall.\n",
        "print(classification_report(y_true=y_test, y_pred=y_test_pred))\n",
        "cm = confusion_matrix(y_true=y_test, y_pred=y_test_pred)\n",
        "cm_normalized = cm/cm.sum(axis=0)*100\n",
        "plot_confusion_matrix(np.around(cm_normalized,1), classes=my_tags, title='Confusion matrix')\n",
        "# It's a high probability that label_\"anger\" and label_\"fear\" are recognized as each other, so they are more similar."
      ]
    },
    {
      "cell_type": "markdown",
      "metadata": {
        "id": "GaHpgl87YTpo"
      },
      "source": [
        "##Exercise 4 (Take home):\n",
        "Build a model using a ```Naive Bayes``` model and train it. What are the testing results?\n",
        "\n",
        "*Reference*: https://scikit-learn.org/stable/modules/generated/sklearn.naive_bayes.MultinomialNB.html"
      ]
    },
    {
      "cell_type": "code",
      "execution_count": 18,
      "metadata": {
        "id": "ZPvaHzpXYTpo",
        "colab": {
          "base_uri": "https://localhost:8080/",
          "height": 0
        },
        "outputId": "b052d45d-27ec-482f-973b-0d74c502b7c6"
      },
      "outputs": [
        {
          "output_type": "stream",
          "name": "stdout",
          "text": [
            "training accuracy: 0.79\n",
            "testing accuracy: 0.7\n",
            "              precision    recall  f1-score   support\n",
            "\n",
            "       anger       0.63      0.65      0.64        84\n",
            "        fear       0.73      0.77      0.75       110\n",
            "         joy       0.78      0.71      0.74        79\n",
            "     sadness       0.64      0.62      0.63        74\n",
            "\n",
            "    accuracy                           0.70       347\n",
            "   macro avg       0.70      0.69      0.69       347\n",
            "weighted avg       0.70      0.70      0.70       347\n",
            "\n"
          ]
        },
        {
          "output_type": "display_data",
          "data": {
            "text/plain": [
              "<Figure size 500x500 with 2 Axes>"
            ],
            "image/png": "[encoded data removed]"
          },
          "metadata": {}
        }
      ],
      "source": [
        "# Answer here\n",
        "from sklearn.naive_bayes import MultinomialNB\n",
        "mnb = MultinomialNB()\n",
        "mnb.fit(X_train, y_train)\n",
        "y_train_pred_bayes = mnb.predict(X_train)\n",
        "y_test_pred_bayes = mnb.predict(X_test)\n",
        "\n",
        "from sklearn.metrics import accuracy_score\n",
        "acc_train_bayes = accuracy_score(y_true=y_train, y_pred=y_train_pred_bayes)\n",
        "acc_test_bayes = accuracy_score(y_true=y_test, y_pred=y_test_pred_bayes)\n",
        "print('training accuracy: {}'.format(round(acc_train_bayes, 2)))\n",
        "print('testing accuracy: {}'.format(round(acc_test_bayes, 2)))\n",
        "\n",
        "from sklearn.metrics import classification_report\n",
        "print(classification_report(y_true=y_test, y_pred=y_test_pred_bayes))\n",
        "from sklearn.metrics import confusion_matrix\n",
        "cm_bayes = confusion_matrix(y_true=y_test, y_pred=y_test_pred_bayes)\n",
        "cm_normalized_bayes = cm_bayes/cm_bayes.sum(axis=0)*100\n",
        "plot_confusion_matrix(np.around(cm_normalized_bayes,1), classes=my_tags, title='Confusion matrix')"
      ]
    },
    {
      "cell_type": "markdown",
      "metadata": {
        "id": "Xv2DqWQSYTpo"
      },
      "source": [
        "##Exercise 5 (Take home):\n",
        "\n",
        "How do the results from the Naive Bayes model and the Decision Tree model compare? How do you interpret these differences? Use the theoretical background covered in class to try and explain these differences."
      ]
    },
    {
      "cell_type": "code",
      "execution_count": 19,
      "metadata": {
        "id": "ALN_jHdlYTpo",
        "colab": {
          "base_uri": "https://localhost:8080/"
        },
        "outputId": "24a29368-a7ec-46bc-b476-e2e4050fd08a"
      },
      "outputs": [
        {
          "output_type": "stream",
          "name": "stdout",
          "text": [
            "Decision Tree model training accuracy: 0.99\n",
            "Decision Tree model testing accuracy: 0.68\n",
            "Naive Bayes model training accuracy: 0.79\n",
            "Naive Bayes model testing accuracy: 0.7\n"
          ]
        }
      ],
      "source": [
        "# Answer here\n",
        "print('Decision Tree model training accuracy: {}'.format(round(acc_train, 2)))\n",
        "print('Decision Tree model testing accuracy: {}'.format(round(acc_test, 2)))\n",
        "print('Naive Bayes model training accuracy: {}'.format(round(acc_train_bayes, 2)))\n",
        "print('Naive Bayes model testing accuracy: {}'.format(round(acc_test_bayes, 2)))\n",
        "\n",
        "# Decision Tree model might \"overfitting\", pruning may solve this problem.\n",
        "# The two models have similar accuracy."
      ]
    },
    {
      "cell_type": "code",
      "source": [
        "print(\"Decision Tree model\\n\", classification_report(y_true=y_test, y_pred=y_test_pred))\n",
        "print(\"Naive Bayes model\\n\", classification_report(y_true=y_test, y_pred=y_test_pred_bayes))\n",
        "plot_confusion_matrix(np.around(cm_normalized,1), classes=my_tags, title='Decision Tree model Confusion matrix (%)')\n",
        "plot_confusion_matrix(np.around(cm_normalized_bayes,1), classes=my_tags, title='Naive Bayes model Confusion matrix (%)')\n",
        "# Naive Bayes model is better on label_\"fear\" and label_\"joy\"\n",
        "# Naive Bayes model assumes each class conditional are independent, however this example didn't conform to the rules.\n",
        "# When the scale of train data is big enough, Naive Bayes model can avoid overfitting"
      ],
      "metadata": {
        "colab": {
          "base_uri": "https://localhost:8080/",
          "height": 0
        },
        "id": "uUD-QpdXPgCI",
        "outputId": "d8e33af7-ded9-4830-9e41-8bb902b2dc11"
      },
      "execution_count": 20,
      "outputs": [
        {
          "output_type": "stream",
          "name": "stdout",
          "text": [
            "Decision Tree model\n",
            "               precision    recall  f1-score   support\n",
            "\n",
            "       anger       0.66      0.68      0.67        84\n",
            "        fear       0.66      0.69      0.67       110\n",
            "         joy       0.72      0.71      0.71        79\n",
            "     sadness       0.70      0.64      0.67        74\n",
            "\n",
            "    accuracy                           0.68       347\n",
            "   macro avg       0.68      0.68      0.68       347\n",
            "weighted avg       0.68      0.68      0.68       347\n",
            "\n",
            "Naive Bayes model\n",
            "               precision    recall  f1-score   support\n",
            "\n",
            "       anger       0.63      0.65      0.64        84\n",
            "        fear       0.73      0.77      0.75       110\n",
            "         joy       0.78      0.71      0.74        79\n",
            "     sadness       0.64      0.62      0.63        74\n",
            "\n",
            "    accuracy                           0.70       347\n",
            "   macro avg       0.70      0.69      0.69       347\n",
            "weighted avg       0.70      0.70      0.70       347\n",
            "\n"
          ]
        },
        {
          "output_type": "display_data",
          "data": {
            "text/plain": [
              "<Figure size 500x500 with 2 Axes>"
            ],
            "image/png": "[encoded data removed]"
          },
          "metadata": {}
        },
        {
          "output_type": "display_data",
          "data": {
            "text/plain": [
              "<Figure size 500x500 with 2 Axes>"
            ],
            "image/png": "[encoded data removed]"
          },
          "metadata": {}
        }
      ]
    },
    {
      "cell_type": "markdown",
      "metadata": {
        "id": "ehlJ60lhYTpo"
      },
      "source": [
        "---"
      ]
    },
    {
      "cell_type": "markdown",
      "metadata": {
        "id": "fiGUSmPLYTpo"
      },
      "source": [
        "---\n",
        "## 6. Deep Learning\n",
        "\n",
        "We use [Keras](https://keras.io/) to be our deep learning framwork, and follow the [Model (functional API)](https://keras.io/models/model/) to build a Deep Neural Network (DNN) model. Keras runs with Tensorflow in the backend. It's a nice abstraction to start working with NN models.\n",
        "\n",
        "Because Deep Learning is a 1-semester course, we can't talk about each detail about it in the lab session. Here, we only provide a simple template about how to build & run a DL model successfully. You can follow this template to design your model.\n",
        "\n",
        "We will begin by building a fully connected network, which looks like this:"
      ]
    },
    {
      "cell_type": "markdown",
      "metadata": {
        "id": "1nB0BTq2YTpo"
      },
      "source": [
        "![Fully Connected Network](pics/pic1.png)\n",
        "\n",
        "(source: https://github.com/drewnoff/spark-notebook-ml-labs/tree/master/labs/DLFramework)\n"
      ]
    },
    {
      "cell_type": "markdown",
      "metadata": {
        "id": "-EtVRGhNYTpo"
      },
      "source": [
        "### 6.1 Prepare data (X, y)"
      ]
    },
    {
      "cell_type": "code",
      "execution_count": 21,
      "metadata": {
        "colab": {
          "base_uri": "https://localhost:8080/"
        },
        "id": "4mIdg2D6YTpo",
        "outputId": "02b48023-e883-4958-8545-33bef7e5cf69"
      },
      "outputs": [
        {
          "output_type": "stream",
          "name": "stdout",
          "text": [
            "X_train.shape:  (3613, 500)\n",
            "y_train.shape:  (3613,)\n",
            "X_test.shape:  (347, 500)\n",
            "y_test.shape:  (347,)\n"
          ]
        }
      ],
      "source": [
        "# standardize name (X, y)\n",
        "X_train = BOW_500.transform(train_df['text'])\n",
        "y_train = train_df['emotion']\n",
        "\n",
        "X_test = BOW_500.transform(test_df['text'])\n",
        "y_test = test_df['emotion']\n",
        "\n",
        "## check dimension is a good habbit\n",
        "print('X_train.shape: ', X_train.shape)\n",
        "print('y_train.shape: ', y_train.shape)\n",
        "print('X_test.shape: ', X_test.shape)\n",
        "print('y_test.shape: ', y_test.shape)"
      ]
    },
    {
      "cell_type": "markdown",
      "metadata": {
        "id": "iBZZedZ2YTpo"
      },
      "source": [
        "### 6.2 Deal with categorical label (y)\n",
        "\n",
        "Rather than put your label `train_df['emotion']` directly into a model, we have to process these categorical (or say nominal) label by ourselves.\n",
        "\n",
        "Here, we use the basic method [one-hot encoding](https://en.wikipedia.org/wiki/One-hot) to transform our categorical  labels to numerical ones.\n"
      ]
    },
    {
      "cell_type": "code",
      "execution_count": 22,
      "metadata": {
        "colab": {
          "base_uri": "https://localhost:8080/"
        },
        "id": "SU95MCsSYTpo",
        "outputId": "c3509767-f684-496a-dd65-4fd24e28d726"
      },
      "outputs": [
        {
          "output_type": "stream",
          "name": "stdout",
          "text": [
            "check label:  ['anger' 'fear' 'joy' 'sadness']\n",
            "\n",
            "## Before convert\n",
            "y_train[0:4]:\n",
            " 839     anger\n",
            "2630      joy\n",
            "32      anger\n",
            "2398      joy\n",
            "Name: emotion, dtype: object\n",
            "\n",
            "y_train.shape:  (3613,)\n",
            "y_test.shape:  (347,)\n",
            "\n",
            "\n",
            "## After convert\n",
            "y_train[0:4]:\n",
            " [[1. 0. 0. 0.]\n",
            " [0. 0. 1. 0.]\n",
            " [1. 0. 0. 0.]\n",
            " [0. 0. 1. 0.]]\n",
            "\n",
            "y_train.shape:  (3613, 4)\n",
            "y_test.shape:  (347, 4)\n"
          ]
        }
      ],
      "source": [
        "## deal with label (string -> one-hot)\n",
        "label_encoder = LabelEncoder()\n",
        "label_encoder.fit(y_train)\n",
        "print('check label: ', label_encoder.classes_)\n",
        "print('\\n## Before convert')\n",
        "print('y_train[0:4]:\\n', y_train[0:4])\n",
        "print('\\ny_train.shape: ', y_train.shape)\n",
        "print('y_test.shape: ', y_test.shape)\n",
        "\n",
        "def label_encode(le, labels):\n",
        "    enc = le.transform(labels)\n",
        "    return keras.utils.to_categorical(enc)\n",
        "\n",
        "def label_decode(le, one_hot_label):\n",
        "    dec = np.argmax(one_hot_label, axis=1)\n",
        "    return le.inverse_transform(dec)\n",
        "\n",
        "y_train = label_encode(label_encoder, y_train)\n",
        "y_test = label_encode(label_encoder, y_test)\n",
        "\n",
        "print('\\n\\n## After convert')\n",
        "print('y_train[0:4]:\\n', y_train[0:4])\n",
        "print('\\ny_train.shape: ', y_train.shape)\n",
        "print('y_test.shape: ', y_test.shape)\n"
      ]
    },
    {
      "cell_type": "markdown",
      "metadata": {
        "id": "W4bqEcMbYTpo"
      },
      "source": [
        "### 6.3 Build model"
      ]
    },
    {
      "cell_type": "code",
      "execution_count": 23,
      "metadata": {
        "colab": {
          "base_uri": "https://localhost:8080/"
        },
        "id": "6sA7cx-oYTpo",
        "outputId": "f52b5695-9f28-4f9a-93ad-acb54497fc07"
      },
      "outputs": [
        {
          "output_type": "stream",
          "name": "stdout",
          "text": [
            "input_shape:  500\n",
            "output_shape:  4\n"
          ]
        }
      ],
      "source": [
        "# I/O check\n",
        "input_shape = X_train.shape[1]\n",
        "print('input_shape: ', input_shape)\n",
        "\n",
        "output_shape = len(label_encoder.classes_)\n",
        "print('output_shape: ', output_shape)"
      ]
    },
    {
      "cell_type": "markdown",
      "metadata": {
        "id": "8c-uWuloYTpo"
      },
      "source": [
        "![Imgur](pics/pic2.png)"
      ]
    },
    {
      "cell_type": "code",
      "execution_count": 24,
      "metadata": {
        "colab": {
          "base_uri": "https://localhost:8080/"
        },
        "id": "jTeBWTvgYTpo",
        "outputId": "33c836fc-b7a6-4771-9950-3f393bba1120"
      },
      "outputs": [
        {
          "output_type": "stream",
          "name": "stdout",
          "text": [
            "Model: \"model\"\n",
            "_________________________________________________________________\n",
            " Layer (type)                Output Shape              Param #   \n",
            "=================================================================\n",
            " input_1 (InputLayer)        [(None, 500)]             0         \n",
            "                                                                 \n",
            " dense (Dense)               (None, 64)                32064     \n",
            "                                                                 \n",
            " re_lu (ReLU)                (None, 64)                0         \n",
            "                                                                 \n",
            " dense_1 (Dense)             (None, 64)                4160      \n",
            "                                                                 \n",
            " re_lu_1 (ReLU)              (None, 64)                0         \n",
            "                                                                 \n",
            " dense_2 (Dense)             (None, 4)                 260       \n",
            "                                                                 \n",
            " softmax (Softmax)           (None, 4)                 0         \n",
            "                                                                 \n",
            "=================================================================\n",
            "Total params: 36484 (142.52 KB)\n",
            "Trainable params: 36484 (142.52 KB)\n",
            "Non-trainable params: 0 (0.00 Byte)\n",
            "_________________________________________________________________\n"
          ]
        }
      ],
      "source": [
        "from keras.models import Model\n",
        "from keras.layers import Input, Dense\n",
        "from keras.layers import ReLU, Softmax\n",
        "\n",
        "# input layer\n",
        "model_input = Input(shape=(input_shape, ))  # 500\n",
        "X = model_input\n",
        "\n",
        "# 1st hidden layer\n",
        "X_W1 = Dense(units=64)(X)  # 64\n",
        "H1 = ReLU()(X_W1)\n",
        "\n",
        "# 2nd hidden layer\n",
        "H1_W2 = Dense(units=64)(H1)  # 64\n",
        "H2 = ReLU()(H1_W2)\n",
        "\n",
        "# output layer\n",
        "H2_W3 = Dense(units=output_shape)(H2)  # 4\n",
        "H3 = Softmax()(H2_W3)\n",
        "\n",
        "model_output = H3\n",
        "\n",
        "# create model\n",
        "model = Model(inputs=[model_input], outputs=[model_output])\n",
        "\n",
        "# loss function & optimizer\n",
        "model.compile(optimizer='adam', loss='categorical_crossentropy', metrics=['accuracy'])\n",
        "\n",
        "# show model construction\n",
        "model.summary()"
      ]
    },
    {
      "cell_type": "markdown",
      "metadata": {
        "id": "nmTSDO2pYTpo"
      },
      "source": [
        "### 6.4 Train"
      ]
    },
    {
      "cell_type": "code",
      "execution_count": 25,
      "metadata": {
        "colab": {
          "base_uri": "https://localhost:8080/"
        },
        "id": "Kl374LYqYTpo",
        "outputId": "287b5572-c196-449e-f54f-c03df6191b43"
      },
      "outputs": [
        {
          "output_type": "stream",
          "name": "stdout",
          "text": [
            "Epoch 1/25\n",
            "113/113 [==============================] - 2s 8ms/step - loss: 1.3259 - accuracy: 0.3676 - val_loss: 1.2630 - val_accuracy: 0.4841\n",
            "Epoch 2/25\n",
            "113/113 [==============================] - 0s 2ms/step - loss: 0.9848 - accuracy: 0.6507 - val_loss: 0.9235 - val_accuracy: 0.6542\n",
            "Epoch 3/25\n",
            "113/113 [==============================] - 0s 1ms/step - loss: 0.5853 - accuracy: 0.7877 - val_loss: 0.7907 - val_accuracy: 0.6916\n",
            "Epoch 4/25\n",
            "113/113 [==============================] - 0s 1ms/step - loss: 0.4230 - accuracy: 0.8450 - val_loss: 0.8208 - val_accuracy: 0.6974\n",
            "Epoch 5/25\n",
            "113/113 [==============================] - 0s 1ms/step - loss: 0.3370 - accuracy: 0.8752 - val_loss: 0.8457 - val_accuracy: 0.6945\n",
            "Epoch 6/25\n",
            "113/113 [==============================] - 0s 2ms/step - loss: 0.2763 - accuracy: 0.8998 - val_loss: 0.8875 - val_accuracy: 0.6974\n",
            "Epoch 7/25\n",
            "113/113 [==============================] - 0s 1ms/step - loss: 0.2303 - accuracy: 0.9222 - val_loss: 0.9791 - val_accuracy: 0.6888\n",
            "Epoch 8/25\n",
            "113/113 [==============================] - 0s 1ms/step - loss: 0.1931 - accuracy: 0.9383 - val_loss: 1.0197 - val_accuracy: 0.6945\n",
            "Epoch 9/25\n",
            "113/113 [==============================] - 0s 2ms/step - loss: 0.1698 - accuracy: 0.9527 - val_loss: 1.0544 - val_accuracy: 0.6859\n",
            "Epoch 10/25\n",
            "113/113 [==============================] - 0s 2ms/step - loss: 0.1424 - accuracy: 0.9560 - val_loss: 1.1262 - val_accuracy: 0.6974\n",
            "Epoch 11/25\n",
            "113/113 [==============================] - 0s 1ms/step - loss: 0.1282 - accuracy: 0.9626 - val_loss: 1.2008 - val_accuracy: 0.6744\n",
            "Epoch 12/25\n",
            "113/113 [==============================] - 0s 1ms/step - loss: 0.1147 - accuracy: 0.9679 - val_loss: 1.2586 - val_accuracy: 0.6772\n",
            "Epoch 13/25\n",
            "113/113 [==============================] - 0s 1ms/step - loss: 0.1040 - accuracy: 0.9698 - val_loss: 1.3416 - val_accuracy: 0.6801\n",
            "Epoch 14/25\n",
            "113/113 [==============================] - 0s 2ms/step - loss: 0.0958 - accuracy: 0.9729 - val_loss: 1.3585 - val_accuracy: 0.6859\n",
            "Epoch 15/25\n",
            "113/113 [==============================] - 0s 1ms/step - loss: 0.0924 - accuracy: 0.9729 - val_loss: 1.3612 - val_accuracy: 0.6801\n",
            "Epoch 16/25\n",
            "113/113 [==============================] - 0s 1ms/step - loss: 0.0843 - accuracy: 0.9756 - val_loss: 1.4212 - val_accuracy: 0.6744\n",
            "Epoch 17/25\n",
            "113/113 [==============================] - 0s 1ms/step - loss: 0.0818 - accuracy: 0.9743 - val_loss: 1.4363 - val_accuracy: 0.6686\n",
            "Epoch 18/25\n",
            "113/113 [==============================] - 0s 1ms/step - loss: 0.0803 - accuracy: 0.9759 - val_loss: 1.4880 - val_accuracy: 0.6686\n",
            "Epoch 19/25\n",
            "113/113 [==============================] - 0s 1ms/step - loss: 0.0794 - accuracy: 0.9754 - val_loss: 1.4958 - val_accuracy: 0.6744\n",
            "Epoch 20/25\n",
            "113/113 [==============================] - 0s 2ms/step - loss: 0.0731 - accuracy: 0.9751 - val_loss: 1.5587 - val_accuracy: 0.6801\n",
            "Epoch 21/25\n",
            "113/113 [==============================] - 0s 1ms/step - loss: 0.0693 - accuracy: 0.9770 - val_loss: 1.6109 - val_accuracy: 0.6686\n",
            "Epoch 22/25\n",
            "113/113 [==============================] - 0s 1ms/step - loss: 0.0700 - accuracy: 0.9781 - val_loss: 1.5361 - val_accuracy: 0.6772\n",
            "Epoch 23/25\n",
            "113/113 [==============================] - 0s 2ms/step - loss: 0.0681 - accuracy: 0.9779 - val_loss: 1.6021 - val_accuracy: 0.6657\n",
            "Epoch 24/25\n",
            "113/113 [==============================] - 0s 1ms/step - loss: 0.0663 - accuracy: 0.9745 - val_loss: 1.6590 - val_accuracy: 0.6542\n",
            "Epoch 25/25\n",
            "113/113 [==============================] - 0s 2ms/step - loss: 0.0626 - accuracy: 0.9784 - val_loss: 1.6567 - val_accuracy: 0.6571\n",
            "training finish\n"
          ]
        }
      ],
      "source": [
        "from keras.callbacks import CSVLogger\n",
        "\n",
        "csv_logger = CSVLogger(path+'logs/training_log.csv')\n",
        "\n",
        "# training setting\n",
        "epochs = 25\n",
        "batch_size = 32\n",
        "\n",
        "# training!\n",
        "history = model.fit(X_train, y_train, epochs=epochs, batch_size=batch_size, callbacks=[csv_logger], validation_data = (X_test, y_test))\n",
        "print('training finish')"
      ]
    },
    {
      "cell_type": "markdown",
      "metadata": {
        "id": "ip8RYsvSYTpo"
      },
      "source": [
        "### 6.5 Predict on testing data"
      ]
    },
    {
      "cell_type": "code",
      "execution_count": 26,
      "metadata": {
        "id": "xdnLuBYBYTpo",
        "colab": {
          "base_uri": "https://localhost:8080/"
        },
        "outputId": "7163857b-124b-4aad-c818-e91df036aa28"
      },
      "outputs": [
        {
          "output_type": "stream",
          "name": "stdout",
          "text": [
            "3/3 [==============================] - 0s 3ms/step\n"
          ]
        },
        {
          "output_type": "execute_result",
          "data": {
            "text/plain": [
              "array([[1.5767762e-03, 1.1725966e-05, 2.1672813e-02, 9.7673869e-01],\n",
              "       [7.5691151e-09, 9.9997944e-01, 1.4743556e-06, 1.9038040e-05],\n",
              "       [3.9689286e-05, 2.1625992e-03, 1.1888586e-05, 9.9778581e-01],\n",
              "       [1.9327247e-04, 4.0807687e-02, 4.4982085e-06, 9.5899445e-01],\n",
              "       [7.6350053e-03, 7.3709508e-08, 8.8184047e-01, 1.1052438e-01]],\n",
              "      dtype=float32)"
            ]
          },
          "metadata": {},
          "execution_count": 26
        }
      ],
      "source": [
        "## predict\n",
        "pred_result = model.predict(X_test, batch_size=128)\n",
        "pred_result[:5]"
      ]
    },
    {
      "cell_type": "code",
      "execution_count": 27,
      "metadata": {
        "id": "hSaXGEX-YTpo",
        "colab": {
          "base_uri": "https://localhost:8080/"
        },
        "outputId": "c2d892d9-3fad-40c8-8593-7c21053e812a"
      },
      "outputs": [
        {
          "output_type": "execute_result",
          "data": {
            "text/plain": [
              "array(['sadness', 'fear', 'sadness', 'sadness', 'joy'], dtype=object)"
            ]
          },
          "metadata": {},
          "execution_count": 27
        }
      ],
      "source": [
        "pred_result = label_decode(label_encoder, pred_result)\n",
        "pred_result[:5]"
      ]
    },
    {
      "cell_type": "code",
      "execution_count": 28,
      "metadata": {
        "id": "bRRHye9KYTp5",
        "colab": {
          "base_uri": "https://localhost:8080/"
        },
        "outputId": "4246a7d3-dde0-44a2-d52c-a13fd15cf6cc"
      },
      "outputs": [
        {
          "output_type": "stream",
          "name": "stdout",
          "text": [
            "testing accuracy: 0.66\n"
          ]
        }
      ],
      "source": [
        "from sklearn.metrics import accuracy_score\n",
        "\n",
        "print('testing accuracy: {}'.format(round(accuracy_score(label_decode(label_encoder, y_test), pred_result), 2)))"
      ]
    },
    {
      "cell_type": "code",
      "execution_count": 29,
      "metadata": {
        "id": "ks2Q0aMsYTp5",
        "colab": {
          "base_uri": "https://localhost:8080/",
          "height": 0
        },
        "outputId": "34730e3a-d0a8-47b9-c7c6-8b50ffe1c98e"
      },
      "outputs": [
        {
          "output_type": "execute_result",
          "data": {
            "text/plain": [
              "    epoch  accuracy      loss  val_accuracy  val_loss\n",
              "0       0  0.367562  1.325917      0.484150  1.262961\n",
              "1       1  0.650706  0.984753      0.654179  0.923545\n",
              "2       2  0.787711  0.585284      0.691643  0.790704\n",
              "3       3  0.845004  0.423012      0.697406  0.820754\n",
              "4       4  0.875173  0.336951      0.694524  0.845731\n",
              "5       5  0.899806  0.276325      0.697406  0.887528\n",
              "6       6  0.922225  0.230313      0.688761  0.979141\n",
              "7       7  0.938278  0.193127      0.694524  1.019670\n",
              "8       8  0.952671  0.169830      0.685879  1.054384\n",
              "9       9  0.955992  0.142399      0.697406  1.126216\n",
              "10     10  0.962635  0.128249      0.674352  1.200844\n",
              "11     11  0.967894  0.114745      0.677233  1.258556\n",
              "12     12  0.969831  0.104020      0.680115  1.341578\n",
              "13     13  0.972876  0.095785      0.685879  1.358472\n",
              "14     14  0.972876  0.092401      0.680115  1.361152\n",
              "15     15  0.975644  0.084315      0.674352  1.421199\n",
              "16     16  0.974260  0.081823      0.668588  1.436252\n",
              "17     17  0.975920  0.080296      0.668588  1.488044\n",
              "18     18  0.975367  0.079364      0.674352  1.495822\n",
              "19     19  0.975090  0.073127      0.680115  1.558746\n",
              "20     20  0.977027  0.069336      0.668588  1.610853\n",
              "21     21  0.978135  0.070006      0.677233  1.536101\n",
              "22     22  0.977858  0.068137      0.665706  1.602141\n",
              "23     23  0.974536  0.066317      0.654179  1.658996\n",
              "24     24  0.978411  0.062580      0.657061  1.656681"
            ],
            "text/html": [
              "\n",
              "  <div id=\"df-228be300-a615-43a1-8b35-7e91d7cd49d7\" class=\"colab-df-container\">\n",
              "    <div>\n",
              "<style scoped>\n",
              "    .dataframe tbody tr th:only-of-type {\n",
              "        vertical-align: middle;\n",
              "    }\n",
              "\n",
              "    .dataframe tbody tr th {\n",
              "        vertical-align: top;\n",
              "    }\n",
              "\n",
              "    .dataframe thead th {\n",
              "        text-align: right;\n",
              "    }\n",
              "</style>\n",
              "<table border=\"1\" class=\"dataframe\">\n",
              "  <thead>\n",
              "    <tr style=\"text-align: right;\">\n",
              "      <th></th>\n",
              "      <th>epoch</th>\n",
              "      <th>accuracy</th>\n",
              "      <th>loss</th>\n",
              "      <th>val_accuracy</th>\n",
              "      <th>val_loss</th>\n",
              "    </tr>\n",
              "  </thead>\n",
              "  <tbody>\n",
              "    <tr>\n",
              "      <th>0</th>\n",
              "      <td>0</td>\n",
              "      <td>0.367562</td>\n",
              "      <td>1.325917</td>\n",
              "      <td>0.484150</td>\n",
              "      <td>1.262961</td>\n",
              "    </tr>\n",
              "    <tr>\n",
              "      <th>1</th>\n",
              "      <td>1</td>\n",
              "      <td>0.650706</td>\n",
              "      <td>0.984753</td>\n",
              "      <td>0.654179</td>\n",
              "      <td>0.923545</td>\n",
              "    </tr>\n",
              "    <tr>\n",
              "      <th>2</th>\n",
              "      <td>2</td>\n",
              "      <td>0.787711</td>\n",
              "      <td>0.585284</td>\n",
              "      <td>0.691643</td>\n",
              "      <td>0.790704</td>\n",
              "    </tr>\n",
              "    <tr>\n",
              "      <th>3</th>\n",
              "      <td>3</td>\n",
              "      <td>0.845004</td>\n",
              "      <td>0.423012</td>\n",
              "      <td>0.697406</td>\n",
              "      <td>0.820754</td>\n",
              "    </tr>\n",
              "    <tr>\n",
              "      <th>4</th>\n",
              "      <td>4</td>\n",
              "      <td>0.875173</td>\n",
              "      <td>0.336951</td>\n",
              "      <td>0.694524</td>\n",
              "      <td>0.845731</td>\n",
              "    </tr>\n",
              "    <tr>\n",
              "      <th>5</th>\n",
              "      <td>5</td>\n",
              "      <td>0.899806</td>\n",
              "      <td>0.276325</td>\n",
              "      <td>0.697406</td>\n",
              "      <td>0.887528</td>\n",
              "    </tr>\n",
              "    <tr>\n",
              "      <th>6</th>\n",
              "      <td>6</td>\n",
              "      <td>0.922225</td>\n",
              "      <td>0.230313</td>\n",
              "      <td>0.688761</td>\n",
              "      <td>0.979141</td>\n",
              "    </tr>\n",
              "    <tr>\n",
              "      <th>7</th>\n",
              "      <td>7</td>\n",
              "      <td>0.938278</td>\n",
              "      <td>0.193127</td>\n",
              "      <td>0.694524</td>\n",
              "      <td>1.019670</td>\n",
              "    </tr>\n",
              "    <tr>\n",
              "      <th>8</th>\n",
              "      <td>8</td>\n",
              "      <td>0.952671</td>\n",
              "      <td>0.169830</td>\n",
              "      <td>0.685879</td>\n",
              "      <td>1.054384</td>\n",
              "    </tr>\n",
              "    <tr>\n",
              "      <th>9</th>\n",
              "      <td>9</td>\n",
              "      <td>0.955992</td>\n",
              "      <td>0.142399</td>\n",
              "      <td>0.697406</td>\n",
              "      <td>1.126216</td>\n",
              "    </tr>\n",
              "    <tr>\n",
              "      <th>10</th>\n",
              "      <td>10</td>\n",
              "      <td>0.962635</td>\n",
              "      <td>0.128249</td>\n",
              "      <td>0.674352</td>\n",
              "      <td>1.200844</td>\n",
              "    </tr>\n",
              "    <tr>\n",
              "      <th>11</th>\n",
              "      <td>11</td>\n",
              "      <td>0.967894</td>\n",
              "      <td>0.114745</td>\n",
              "      <td>0.677233</td>\n",
              "      <td>1.258556</td>\n",
              "    </tr>\n",
              "    <tr>\n",
              "      <th>12</th>\n",
              "      <td>12</td>\n",
              "      <td>0.969831</td>\n",
              "      <td>0.104020</td>\n",
              "      <td>0.680115</td>\n",
              "      <td>1.341578</td>\n",
              "    </tr>\n",
              "    <tr>\n",
              "      <th>13</th>\n",
              "      <td>13</td>\n",
              "      <td>0.972876</td>\n",
              "      <td>0.095785</td>\n",
              "      <td>0.685879</td>\n",
              "      <td>1.358472</td>\n",
              "    </tr>\n",
              "    <tr>\n",
              "      <th>14</th>\n",
              "      <td>14</td>\n",
              "      <td>0.972876</td>\n",
              "      <td>0.092401</td>\n",
              "      <td>0.680115</td>\n",
              "      <td>1.361152</td>\n",
              "    </tr>\n",
              "    <tr>\n",
              "      <th>15</th>\n",
              "      <td>15</td>\n",
              "      <td>0.975644</td>\n",
              "      <td>0.084315</td>\n",
              "      <td>0.674352</td>\n",
              "      <td>1.421199</td>\n",
              "    </tr>\n",
              "    <tr>\n",
              "      <th>16</th>\n",
              "      <td>16</td>\n",
              "      <td>0.974260</td>\n",
              "      <td>0.081823</td>\n",
              "      <td>0.668588</td>\n",
              "      <td>1.436252</td>\n",
              "    </tr>\n",
              "    <tr>\n",
              "      <th>17</th>\n",
              "      <td>17</td>\n",
              "      <td>0.975920</td>\n",
              "      <td>0.080296</td>\n",
              "      <td>0.668588</td>\n",
              "      <td>1.488044</td>\n",
              "    </tr>\n",
              "    <tr>\n",
              "      <th>18</th>\n",
              "      <td>18</td>\n",
              "      <td>0.975367</td>\n",
              "      <td>0.079364</td>\n",
              "      <td>0.674352</td>\n",
              "      <td>1.495822</td>\n",
              "    </tr>\n",
              "    <tr>\n",
              "      <th>19</th>\n",
              "      <td>19</td>\n",
              "      <td>0.975090</td>\n",
              "      <td>0.073127</td>\n",
              "      <td>0.680115</td>\n",
              "      <td>1.558746</td>\n",
              "    </tr>\n",
              "    <tr>\n",
              "      <th>20</th>\n",
              "      <td>20</td>\n",
              "      <td>0.977027</td>\n",
              "      <td>0.069336</td>\n",
              "      <td>0.668588</td>\n",
              "      <td>1.610853</td>\n",
              "    </tr>\n",
              "    <tr>\n",
              "      <th>21</th>\n",
              "      <td>21</td>\n",
              "      <td>0.978135</td>\n",
              "      <td>0.070006</td>\n",
              "      <td>0.677233</td>\n",
              "      <td>1.536101</td>\n",
              "    </tr>\n",
              "    <tr>\n",
              "      <th>22</th>\n",
              "      <td>22</td>\n",
              "      <td>0.977858</td>\n",
              "      <td>0.068137</td>\n",
              "      <td>0.665706</td>\n",
              "      <td>1.602141</td>\n",
              "    </tr>\n",
              "    <tr>\n",
              "      <th>23</th>\n",
              "      <td>23</td>\n",
              "      <td>0.974536</td>\n",
              "      <td>0.066317</td>\n",
              "      <td>0.654179</td>\n",
              "      <td>1.658996</td>\n",
              "    </tr>\n",
              "    <tr>\n",
              "      <th>24</th>\n",
              "      <td>24</td>\n",
              "      <td>0.978411</td>\n",
              "      <td>0.062580</td>\n",
              "      <td>0.657061</td>\n",
              "      <td>1.656681</td>\n",
              "    </tr>\n",
              "  </tbody>\n",
              "</table>\n",
              "</div>\n",
              "    <div class=\"colab-df-buttons\">\n",
              "\n",
              "  <div class=\"colab-df-container\">\n",
              "    <button class=\"colab-df-convert\" onclick=\"convertToInteractive('df-228be300-a615-43a1-8b35-7e91d7cd49d7')\"\n",
              "            title=\"Convert this dataframe to an interactive table.\"\n",
              "            style=\"display:none;\">\n",
              "\n",
              "  <svg xmlns=\"http://www.w3.org/2000/svg\" height=\"24px\" viewBox=\"0 -960 960 960\">\n",
              "    <path d=\"M120-120v-720h720v720H120Zm60-500h600v-160H180v160Zm220 220h160v-160H400v160Zm0 220h160v-160H400v160ZM180-400h160v-160H180v160Zm440 0h160v-160H620v160ZM180-180h160v-160H180v160Zm440 0h160v-160H620v160Z\"/>\n",
              "  </svg>\n",
              "    </button>\n",
              "\n",
              "  <style>\n",
              "    .colab-df-container {\n",
              "      display:flex;\n",
              "      gap: 12px;\n",
              "    }\n",
              "\n",
              "    .colab-df-convert {\n",
              "      background-color: #E8F0FE;\n",
              "      border: none;\n",
              "      border-radius: 50%;\n",
              "      cursor: pointer;\n",
              "      display: none;\n",
              "      fill: #1967D2;\n",
              "      height: 32px;\n",
              "      padding: 0 0 0 0;\n",
              "      width: 32px;\n",
              "    }\n",
              "\n",
              "    .colab-df-convert:hover {\n",
              "      background-color: #E2EBFA;\n",
              "      box-shadow: 0px 1px 2px rgba(60, 64, 67, 0.3), 0px 1px 3px 1px rgba(60, 64, 67, 0.15);\n",
              "      fill: #174EA6;\n",
              "    }\n",
              "\n",
              "    .colab-df-buttons div {\n",
              "      margin-bottom: 4px;\n",
              "    }\n",
              "\n",
              "    [theme=dark] .colab-df-convert {\n",
              "      background-color: #3B4455;\n",
              "      fill: #D2E3FC;\n",
              "    }\n",
              "\n",
              "    [theme=dark] .colab-df-convert:hover {\n",
              "      background-color: #434B5C;\n",
              "      box-shadow: 0px 1px 3px 1px rgba(0, 0, 0, 0.15);\n",
              "      filter: drop-shadow(0px 1px 2px rgba(0, 0, 0, 0.3));\n",
              "      fill: #FFFFFF;\n",
              "    }\n",
              "  </style>\n",
              "\n",
              "    <script>\n",
              "      const buttonEl =\n",
              "        document.querySelector('#df-228be300-a615-43a1-8b35-7e91d7cd49d7 button.colab-df-convert');\n",
              "      buttonEl.style.display =\n",
              "        google.colab.kernel.accessAllowed ? 'block' : 'none';\n",
              "\n",
              "      async function convertToInteractive(key) {\n",
              "        const element = document.querySelector('#df-228be300-a615-43a1-8b35-7e91d7cd49d7');\n",
              "        const dataTable =\n",
              "          await google.colab.kernel.invokeFunction('convertToInteractive',\n",
              "                                                    [key], {});\n",
              "        if (!dataTable) return;\n",
              "\n",
              "        const docLinkHtml = 'Like what you see? Visit the ' +\n",
              "          '<a target=\"_blank\" href=https://colab.research.google.com/notebooks/data_table.ipynb>data table notebook</a>'\n",
              "          + ' to learn more about interactive tables.';\n",
              "        element.innerHTML = '';\n",
              "        dataTable['output_type'] = 'display_data';\n",
              "        await google.colab.output.renderOutput(dataTable, element);\n",
              "        const docLink = document.createElement('div');\n",
              "        docLink.innerHTML = docLinkHtml;\n",
              "        element.appendChild(docLink);\n",
              "      }\n",
              "    </script>\n",
              "  </div>\n",
              "\n",
              "\n",
              "<div id=\"df-57811ea9-c8ee-45ac-b600-8bc4558b2a29\">\n",
              "  <button class=\"colab-df-quickchart\" onclick=\"quickchart('df-57811ea9-c8ee-45ac-b600-8bc4558b2a29')\"\n",
              "            title=\"Suggest charts\"\n",
              "            style=\"display:none;\">\n",
              "\n",
              "<svg xmlns=\"http://www.w3.org/2000/svg\" height=\"24px\"viewBox=\"0 0 24 24\"\n",
              "     width=\"24px\">\n",
              "    <g>\n",
              "        <path d=\"M19 3H5c-1.1 0-2 .9-2 2v14c0 1.1.9 2 2 2h14c1.1 0 2-.9 2-2V5c0-1.1-.9-2-2-2zM9 17H7v-7h2v7zm4 0h-2V7h2v10zm4 0h-2v-4h2v4z\"/>\n",
              "    </g>\n",
              "</svg>\n",
              "  </button>\n",
              "\n",
              "<style>\n",
              "  .colab-df-quickchart {\n",
              "      --bg-color: #E8F0FE;\n",
              "      --fill-color: #1967D2;\n",
              "      --hover-bg-color: #E2EBFA;\n",
              "      --hover-fill-color: #174EA6;\n",
              "      --disabled-fill-color: #AAA;\n",
              "      --disabled-bg-color: #DDD;\n",
              "  }\n",
              "\n",
              "  [theme=dark] .colab-df-quickchart {\n",
              "      --bg-color: #3B4455;\n",
              "      --fill-color: #D2E3FC;\n",
              "      --hover-bg-color: #434B5C;\n",
              "      --hover-fill-color: #FFFFFF;\n",
              "      --disabled-bg-color: #3B4455;\n",
              "      --disabled-fill-color: #666;\n",
              "  }\n",
              "\n",
              "  .colab-df-quickchart {\n",
              "    background-color: var(--bg-color);\n",
              "    border: none;\n",
              "    border-radius: 50%;\n",
              "    cursor: pointer;\n",
              "    display: none;\n",
              "    fill: var(--fill-color);\n",
              "    height: 32px;\n",
              "    padding: 0;\n",
              "    width: 32px;\n",
              "  }\n",
              "\n",
              "  .colab-df-quickchart:hover {\n",
              "    background-color: var(--hover-bg-color);\n",
              "    box-shadow: 0 1px 2px rgba(60, 64, 67, 0.3), 0 1px 3px 1px rgba(60, 64, 67, 0.15);\n",
              "    fill: var(--button-hover-fill-color);\n",
              "  }\n",
              "\n",
              "  .colab-df-quickchart-complete:disabled,\n",
              "  .colab-df-quickchart-complete:disabled:hover {\n",
              "    background-color: var(--disabled-bg-color);\n",
              "    fill: var(--disabled-fill-color);\n",
              "    box-shadow: none;\n",
              "  }\n",
              "\n",
              "  .colab-df-spinner {\n",
              "    border: 2px solid var(--fill-color);\n",
              "    border-color: transparent;\n",
              "    border-bottom-color: var(--fill-color);\n",
              "    animation:\n",
              "      spin 1s steps(1) infinite;\n",
              "  }\n",
              "\n",
              "  @keyframes spin {\n",
              "    0% {\n",
              "      border-color: transparent;\n",
              "      border-bottom-color: var(--fill-color);\n",
              "      border-left-color: var(--fill-color);\n",
              "    }\n",
              "    20% {\n",
              "      border-color: transparent;\n",
              "      border-left-color: var(--fill-color);\n",
              "      border-top-color: var(--fill-color);\n",
              "    }\n",
              "    30% {\n",
              "      border-color: transparent;\n",
              "      border-left-color: var(--fill-color);\n",
              "      border-top-color: var(--fill-color);\n",
              "      border-right-color: var(--fill-color);\n",
              "    }\n",
              "    40% {\n",
              "      border-color: transparent;\n",
              "      border-right-color: var(--fill-color);\n",
              "      border-top-color: var(--fill-color);\n",
              "    }\n",
              "    60% {\n",
              "      border-color: transparent;\n",
              "      border-right-color: var(--fill-color);\n",
              "    }\n",
              "    80% {\n",
              "      border-color: transparent;\n",
              "      border-right-color: var(--fill-color);\n",
              "      border-bottom-color: var(--fill-color);\n",
              "    }\n",
              "    90% {\n",
              "      border-color: transparent;\n",
              "      border-bottom-color: var(--fill-color);\n",
              "    }\n",
              "  }\n",
              "</style>\n",
              "\n",
              "  <script>\n",
              "    async function quickchart(key) {\n",
              "      const quickchartButtonEl =\n",
              "        document.querySelector('#' + key + ' button');\n",
              "      quickchartButtonEl.disabled = true;  // To prevent multiple clicks.\n",
              "      quickchartButtonEl.classList.add('colab-df-spinner');\n",
              "      try {\n",
              "        const charts = await google.colab.kernel.invokeFunction(\n",
              "            'suggestCharts', [key], {});\n",
              "      } catch (error) {\n",
              "        console.error('Error during call to suggestCharts:', error);\n",
              "      }\n",
              "      quickchartButtonEl.classList.remove('colab-df-spinner');\n",
              "      quickchartButtonEl.classList.add('colab-df-quickchart-complete');\n",
              "    }\n",
              "    (() => {\n",
              "      let quickchartButtonEl =\n",
              "        document.querySelector('#df-57811ea9-c8ee-45ac-b600-8bc4558b2a29 button');\n",
              "      quickchartButtonEl.style.display =\n",
              "        google.colab.kernel.accessAllowed ? 'block' : 'none';\n",
              "    })();\n",
              "  </script>\n",
              "</div>\n",
              "    </div>\n",
              "  </div>\n"
            ]
          },
          "metadata": {},
          "execution_count": 29
        }
      ],
      "source": [
        "#Let's take a look at the training log\n",
        "training_log = pd.DataFrame()\n",
        "training_log = pd.read_csv(path+\"logs/training_log.csv\")\n",
        "training_log"
      ]
    },
    {
      "cell_type": "markdown",
      "metadata": {
        "id": "NoYqY0-tYTp5"
      },
      "source": [
        "## Exercise 6 (Take home):\n",
        "\n",
        "Plot the Training and Validation Accuracy and Loss (different plots), just like the images below.(Note: the pictures below are an example from a different model). How to interpret the graphs you got? How are they related to the concept of overfitting/underfitting covered in class?\n",
        "<table><tr>\n",
        "    <td><img src=\"pics/pic3.png\" style=\"width: 300px;\"/> </td>\n",
        "    <td><img src=\"pics/pic4.png\" style=\"width: 300px;\"/> </td>\n",
        "</tr></table>"
      ]
    },
    {
      "cell_type": "code",
      "execution_count": 30,
      "metadata": {
        "id": "AlhstCrlYTp5",
        "colab": {
          "base_uri": "https://localhost:8080/",
          "height": 0
        },
        "outputId": "0bc6fbb5-39b7-4ed0-c579-06e4f768ede9"
      },
      "outputs": [
        {
          "output_type": "execute_result",
          "data": {
            "text/plain": [
              "<Axes: >"
            ]
          },
          "metadata": {},
          "execution_count": 30
        },
        {
          "output_type": "display_data",
          "data": {
            "text/plain": [
              "<Figure size 800x300 with 2 Axes>"
            ],
            "image/png": "[encoded data removed]"
          },
          "metadata": {}
        }
      ],
      "source": [
        "# Answer here\n",
        "training_log\n",
        "fig, (ax1,ax2) = plt.subplots(1,2, figsize=(8, 3), gridspec_kw={\"width_ratios\": [1, 1]})\n",
        "sns.lineplot(data=training_log.loc[:,['accuracy','val_accuracy']], ax=ax1)\n",
        "sns.lineplot(data=training_log.loc[:,['loss','val_loss']], ax=ax2)"
      ]
    },
    {
      "cell_type": "markdown",
      "metadata": {
        "id": "UYabzgSGYTp5"
      },
      "source": [
        "---"
      ]
    },
    {
      "cell_type": "markdown",
      "metadata": {
        "id": "4e5eiVLOYTp5"
      },
      "source": [
        "### Note\n",
        "\n",
        "If you don't have a GPU (level is higher than GTX 1060) or you are not good at setting lots of things about computer, we recommend you to use the [kaggle kernel](https://www.kaggle.com/kernels) to do deep learning model training. They have already installed all the librarys and provided free GPU for you to use.\n",
        "\n",
        "Note however that you will only be able to run a kernel for 6 hours. After 6 hours of inactivity, your Kaggle kernel will shut down (meaning if your model takes more than 6 hours to train, you can't train it at once).\n",
        "\n",
        "\n",
        "### More Information for your reference\n",
        "\n",
        "* Keras document: https://keras.io/\n",
        "* Keras GitHub example: https://github.com/keras-team/keras/tree/master/examples\n",
        "* CS229: Machine Learning: http://cs229.stanford.edu/syllabus.html\n",
        "* Deep Learning cheatsheet: https://stanford.edu/~shervine/teaching/cs-229/cheatsheet-deep-learning\n",
        "* If you want to try TensorFlow or PyTorch: https://pytorch.org/tutorials/\n",
        "https://www.tensorflow.org/tutorials/quickstart/beginner"
      ]
    },
    {
      "cell_type": "markdown",
      "metadata": {
        "id": "IESBq48MYTp5"
      },
      "source": [
        "---\n",
        "## 7. Word2Vector\n",
        "\n",
        "We will introduce how to use `gensim` to train your word2vec model and how to load a pre-trained model.\n",
        "\n",
        "https://radimrehurek.com/gensim/index.html"
      ]
    },
    {
      "cell_type": "markdown",
      "metadata": {
        "id": "KRSDMhQ5YTp5"
      },
      "source": [
        "### 7.1 Prepare training corpus"
      ]
    },
    {
      "cell_type": "code",
      "execution_count": 31,
      "metadata": {
        "colab": {
          "base_uri": "https://localhost:8080/",
          "height": 0
        },
        "id": "6aBYrovJYTp5",
        "outputId": "4a3aa50c-30bc-4738-e766-8d2d90381738"
      },
      "outputs": [
        {
          "output_type": "execute_result",
          "data": {
            "text/plain": [
              "         id                                               text  \\\n",
              "839   10839  Grateful for all the hungry people in my life!...   \n",
              "2630  30626        only time I am ever cheering for you Johnny   \n",
              "32    10032  I blame the whole season on Natalie! The seaso...   \n",
              "2398  30394  @AimiSyafiqahR go check up with your bf. He'll...   \n",
              "411   10411  @JasonMillerinDC @realDonaldTrump Prudence sug...   \n",
              "\n",
              "                                         text_tokenized  \n",
              "839   [Grateful, for, all, the, hungry, people, in, ...  \n",
              "2630  [only, time, I, am, ever, cheering, for, you, ...  \n",
              "32    [I, blame, the, whole, season, on, Natalie, !,...  \n",
              "2398  [@, AimiSyafiqahR, go, check, up, with, your, ...  \n",
              "411   [@, JasonMillerinDC, @, realDonaldTrump, Prude...  "
            ],
            "text/html": [
              "\n",
              "  <div id=\"df-6ce921bb-af9f-440d-bec2-8ff9ff8195a0\" class=\"colab-df-container\">\n",
              "    <div>\n",
              "<style scoped>\n",
              "    .dataframe tbody tr th:only-of-type {\n",
              "        vertical-align: middle;\n",
              "    }\n",
              "\n",
              "    .dataframe tbody tr th {\n",
              "        vertical-align: top;\n",
              "    }\n",
              "\n",
              "    .dataframe thead th {\n",
              "        text-align: right;\n",
              "    }\n",
              "</style>\n",
              "<table border=\"1\" class=\"dataframe\">\n",
              "  <thead>\n",
              "    <tr style=\"text-align: right;\">\n",
              "      <th></th>\n",
              "      <th>id</th>\n",
              "      <th>text</th>\n",
              "      <th>text_tokenized</th>\n",
              "    </tr>\n",
              "  </thead>\n",
              "  <tbody>\n",
              "    <tr>\n",
              "      <th>839</th>\n",
              "      <td>10839</td>\n",
              "      <td>Grateful for all the hungry people in my life!...</td>\n",
              "      <td>[Grateful, for, all, the, hungry, people, in, ...</td>\n",
              "    </tr>\n",
              "    <tr>\n",
              "      <th>2630</th>\n",
              "      <td>30626</td>\n",
              "      <td>only time I am ever cheering for you Johnny</td>\n",
              "      <td>[only, time, I, am, ever, cheering, for, you, ...</td>\n",
              "    </tr>\n",
              "    <tr>\n",
              "      <th>32</th>\n",
              "      <td>10032</td>\n",
              "      <td>I blame the whole season on Natalie! The seaso...</td>\n",
              "      <td>[I, blame, the, whole, season, on, Natalie, !,...</td>\n",
              "    </tr>\n",
              "    <tr>\n",
              "      <th>2398</th>\n",
              "      <td>30394</td>\n",
              "      <td>@AimiSyafiqahR go check up with your bf. He'll...</td>\n",
              "      <td>[@, AimiSyafiqahR, go, check, up, with, your, ...</td>\n",
              "    </tr>\n",
              "    <tr>\n",
              "      <th>411</th>\n",
              "      <td>10411</td>\n",
              "      <td>@JasonMillerinDC @realDonaldTrump Prudence sug...</td>\n",
              "      <td>[@, JasonMillerinDC, @, realDonaldTrump, Prude...</td>\n",
              "    </tr>\n",
              "  </tbody>\n",
              "</table>\n",
              "</div>\n",
              "    <div class=\"colab-df-buttons\">\n",
              "\n",
              "  <div class=\"colab-df-container\">\n",
              "    <button class=\"colab-df-convert\" onclick=\"convertToInteractive('df-6ce921bb-af9f-440d-bec2-8ff9ff8195a0')\"\n",
              "            title=\"Convert this dataframe to an interactive table.\"\n",
              "            style=\"display:none;\">\n",
              "\n",
              "  <svg xmlns=\"http://www.w3.org/2000/svg\" height=\"24px\" viewBox=\"0 -960 960 960\">\n",
              "    <path d=\"M120-120v-720h720v720H120Zm60-500h600v-160H180v160Zm220 220h160v-160H400v160Zm0 220h160v-160H400v160ZM180-400h160v-160H180v160Zm440 0h160v-160H620v160ZM180-180h160v-160H180v160Zm440 0h160v-160H620v160Z\"/>\n",
              "  </svg>\n",
              "    </button>\n",
              "\n",
              "  <style>\n",
              "    .colab-df-container {\n",
              "      display:flex;\n",
              "      gap: 12px;\n",
              "    }\n",
              "\n",
              "    .colab-df-convert {\n",
              "      background-color: #E8F0FE;\n",
              "      border: none;\n",
              "      border-radius: 50%;\n",
              "      cursor: pointer;\n",
              "      display: none;\n",
              "      fill: #1967D2;\n",
              "      height: 32px;\n",
              "      padding: 0 0 0 0;\n",
              "      width: 32px;\n",
              "    }\n",
              "\n",
              "    .colab-df-convert:hover {\n",
              "      background-color: #E2EBFA;\n",
              "      box-shadow: 0px 1px 2px rgba(60, 64, 67, 0.3), 0px 1px 3px 1px rgba(60, 64, 67, 0.15);\n",
              "      fill: #174EA6;\n",
              "    }\n",
              "\n",
              "    .colab-df-buttons div {\n",
              "      margin-bottom: 4px;\n",
              "    }\n",
              "\n",
              "    [theme=dark] .colab-df-convert {\n",
              "      background-color: #3B4455;\n",
              "      fill: #D2E3FC;\n",
              "    }\n",
              "\n",
              "    [theme=dark] .colab-df-convert:hover {\n",
              "      background-color: #434B5C;\n",
              "      box-shadow: 0px 1px 3px 1px rgba(0, 0, 0, 0.15);\n",
              "      filter: drop-shadow(0px 1px 2px rgba(0, 0, 0, 0.3));\n",
              "      fill: #FFFFFF;\n",
              "    }\n",
              "  </style>\n",
              "\n",
              "    <script>\n",
              "      const buttonEl =\n",
              "        document.querySelector('#df-6ce921bb-af9f-440d-bec2-8ff9ff8195a0 button.colab-df-convert');\n",
              "      buttonEl.style.display =\n",
              "        google.colab.kernel.accessAllowed ? 'block' : 'none';\n",
              "\n",
              "      async function convertToInteractive(key) {\n",
              "        const element = document.querySelector('#df-6ce921bb-af9f-440d-bec2-8ff9ff8195a0');\n",
              "        const dataTable =\n",
              "          await google.colab.kernel.invokeFunction('convertToInteractive',\n",
              "                                                    [key], {});\n",
              "        if (!dataTable) return;\n",
              "\n",
              "        const docLinkHtml = 'Like what you see? Visit the ' +\n",
              "          '<a target=\"_blank\" href=https://colab.research.google.com/notebooks/data_table.ipynb>data table notebook</a>'\n",
              "          + ' to learn more about interactive tables.';\n",
              "        element.innerHTML = '';\n",
              "        dataTable['output_type'] = 'display_data';\n",
              "        await google.colab.output.renderOutput(dataTable, element);\n",
              "        const docLink = document.createElement('div');\n",
              "        docLink.innerHTML = docLinkHtml;\n",
              "        element.appendChild(docLink);\n",
              "      }\n",
              "    </script>\n",
              "  </div>\n",
              "\n",
              "\n",
              "<div id=\"df-b2d07b6c-1db1-4533-a2f3-0478ea0e3118\">\n",
              "  <button class=\"colab-df-quickchart\" onclick=\"quickchart('df-b2d07b6c-1db1-4533-a2f3-0478ea0e3118')\"\n",
              "            title=\"Suggest charts\"\n",
              "            style=\"display:none;\">\n",
              "\n",
              "<svg xmlns=\"http://www.w3.org/2000/svg\" height=\"24px\"viewBox=\"0 0 24 24\"\n",
              "     width=\"24px\">\n",
              "    <g>\n",
              "        <path d=\"M19 3H5c-1.1 0-2 .9-2 2v14c0 1.1.9 2 2 2h14c1.1 0 2-.9 2-2V5c0-1.1-.9-2-2-2zM9 17H7v-7h2v7zm4 0h-2V7h2v10zm4 0h-2v-4h2v4z\"/>\n",
              "    </g>\n",
              "</svg>\n",
              "  </button>\n",
              "\n",
              "<style>\n",
              "  .colab-df-quickchart {\n",
              "      --bg-color: #E8F0FE;\n",
              "      --fill-color: #1967D2;\n",
              "      --hover-bg-color: #E2EBFA;\n",
              "      --hover-fill-color: #174EA6;\n",
              "      --disabled-fill-color: #AAA;\n",
              "      --disabled-bg-color: #DDD;\n",
              "  }\n",
              "\n",
              "  [theme=dark] .colab-df-quickchart {\n",
              "      --bg-color: #3B4455;\n",
              "      --fill-color: #D2E3FC;\n",
              "      --hover-bg-color: #434B5C;\n",
              "      --hover-fill-color: #FFFFFF;\n",
              "      --disabled-bg-color: #3B4455;\n",
              "      --disabled-fill-color: #666;\n",
              "  }\n",
              "\n",
              "  .colab-df-quickchart {\n",
              "    background-color: var(--bg-color);\n",
              "    border: none;\n",
              "    border-radius: 50%;\n",
              "    cursor: pointer;\n",
              "    display: none;\n",
              "    fill: var(--fill-color);\n",
              "    height: 32px;\n",
              "    padding: 0;\n",
              "    width: 32px;\n",
              "  }\n",
              "\n",
              "  .colab-df-quickchart:hover {\n",
              "    background-color: var(--hover-bg-color);\n",
              "    box-shadow: 0 1px 2px rgba(60, 64, 67, 0.3), 0 1px 3px 1px rgba(60, 64, 67, 0.15);\n",
              "    fill: var(--button-hover-fill-color);\n",
              "  }\n",
              "\n",
              "  .colab-df-quickchart-complete:disabled,\n",
              "  .colab-df-quickchart-complete:disabled:hover {\n",
              "    background-color: var(--disabled-bg-color);\n",
              "    fill: var(--disabled-fill-color);\n",
              "    box-shadow: none;\n",
              "  }\n",
              "\n",
              "  .colab-df-spinner {\n",
              "    border: 2px solid var(--fill-color);\n",
              "    border-color: transparent;\n",
              "    border-bottom-color: var(--fill-color);\n",
              "    animation:\n",
              "      spin 1s steps(1) infinite;\n",
              "  }\n",
              "\n",
              "  @keyframes spin {\n",
              "    0% {\n",
              "      border-color: transparent;\n",
              "      border-bottom-color: var(--fill-color);\n",
              "      border-left-color: var(--fill-color);\n",
              "    }\n",
              "    20% {\n",
              "      border-color: transparent;\n",
              "      border-left-color: var(--fill-color);\n",
              "      border-top-color: var(--fill-color);\n",
              "    }\n",
              "    30% {\n",
              "      border-color: transparent;\n",
              "      border-left-color: var(--fill-color);\n",
              "      border-top-color: var(--fill-color);\n",
              "      border-right-color: var(--fill-color);\n",
              "    }\n",
              "    40% {\n",
              "      border-color: transparent;\n",
              "      border-right-color: var(--fill-color);\n",
              "      border-top-color: var(--fill-color);\n",
              "    }\n",
              "    60% {\n",
              "      border-color: transparent;\n",
              "      border-right-color: var(--fill-color);\n",
              "    }\n",
              "    80% {\n",
              "      border-color: transparent;\n",
              "      border-right-color: var(--fill-color);\n",
              "      border-bottom-color: var(--fill-color);\n",
              "    }\n",
              "    90% {\n",
              "      border-color: transparent;\n",
              "      border-bottom-color: var(--fill-color);\n",
              "    }\n",
              "  }\n",
              "</style>\n",
              "\n",
              "  <script>\n",
              "    async function quickchart(key) {\n",
              "      const quickchartButtonEl =\n",
              "        document.querySelector('#' + key + ' button');\n",
              "      quickchartButtonEl.disabled = true;  // To prevent multiple clicks.\n",
              "      quickchartButtonEl.classList.add('colab-df-spinner');\n",
              "      try {\n",
              "        const charts = await google.colab.kernel.invokeFunction(\n",
              "            'suggestCharts', [key], {});\n",
              "      } catch (error) {\n",
              "        console.error('Error during call to suggestCharts:', error);\n",
              "      }\n",
              "      quickchartButtonEl.classList.remove('colab-df-spinner');\n",
              "      quickchartButtonEl.classList.add('colab-df-quickchart-complete');\n",
              "    }\n",
              "    (() => {\n",
              "      let quickchartButtonEl =\n",
              "        document.querySelector('#df-b2d07b6c-1db1-4533-a2f3-0478ea0e3118 button');\n",
              "      quickchartButtonEl.style.display =\n",
              "        google.colab.kernel.accessAllowed ? 'block' : 'none';\n",
              "    })();\n",
              "  </script>\n",
              "</div>\n",
              "    </div>\n",
              "  </div>\n"
            ]
          },
          "metadata": {},
          "execution_count": 31
        }
      ],
      "source": [
        "# # if you want to see the training messages, you can use it\n",
        "# import logging\n",
        "# logging.basicConfig(format='%(asctime)s : %(levelname)s : %(message)s', level=logging.INFO)\n",
        "\n",
        "## the input type\n",
        "train_df['text_tokenized'] = train_df['text'].apply(lambda x: nltk.word_tokenize(x))\n",
        "train_df[['id', 'text', 'text_tokenized']].head()"
      ]
    },
    {
      "cell_type": "code",
      "source": [
        "type(train_df['text_tokenized'][3])"
      ],
      "metadata": {
        "colab": {
          "base_uri": "https://localhost:8080/"
        },
        "id": "XyJz_HNqrcaI",
        "outputId": "4c507f19-526f-4d1b-aed7-07d14a9d0187"
      },
      "execution_count": 32,
      "outputs": [
        {
          "output_type": "execute_result",
          "data": {
            "text/plain": [
              "list"
            ]
          },
          "metadata": {},
          "execution_count": 32
        }
      ]
    },
    {
      "cell_type": "code",
      "execution_count": 33,
      "metadata": {
        "colab": {
          "base_uri": "https://localhost:8080/"
        },
        "id": "okFIEcmnYTp5",
        "outputId": "53f815d7-45ec-4160-d8bd-3668ff5b08b9"
      },
      "outputs": [
        {
          "output_type": "execute_result",
          "data": {
            "text/plain": [
              "array([list(['Grateful', 'for', 'all', 'the', 'hungry', 'people', 'in', 'my', 'life', '!', 'Hungry', 'to', 'learn', ',', 'change', ',', 'grow', ',', 'help', ',', 'etc', '-', 'not', 'sure', 'anybody', 'has', 'it', 'better', '!', '#', 'relentless']),\n",
              "       list(['only', 'time', 'I', 'am', 'ever', 'cheering', 'for', 'you', 'Johnny']),\n",
              "       list(['I', 'blame', 'the', 'whole', 'season', 'on', 'Natalie', '!', 'The', 'season', 'would', 'have', 'been', 'so', 'different', 'had', 'she', 'not', 'turned', 'her', 'back', 'on', 'her', 'alliance', '!', '#', 'pissed'])],\n",
              "      dtype=object)"
            ]
          },
          "metadata": {},
          "execution_count": 33
        }
      ],
      "source": [
        "## create the training corpus\n",
        "training_corpus = train_df['text_tokenized'].values\n",
        "training_corpus[:3]"
      ]
    },
    {
      "cell_type": "code",
      "source": [
        "len(training_corpus)"
      ],
      "metadata": {
        "colab": {
          "base_uri": "https://localhost:8080/"
        },
        "id": "NrBn8zJ_4eaX",
        "outputId": "8cc25b4e-b236-4322-b633-add9431b7354"
      },
      "execution_count": 34,
      "outputs": [
        {
          "output_type": "execute_result",
          "data": {
            "text/plain": [
              "3613"
            ]
          },
          "metadata": {},
          "execution_count": 34
        }
      ]
    },
    {
      "cell_type": "markdown",
      "metadata": {
        "id": "dOgAriPRYTp5"
      },
      "source": [
        "### 7.2 Training our model\n",
        "\n",
        "You can try to train your own model. More details: https://radimrehurek.com/gensim/models/word2vec.html"
      ]
    },
    {
      "cell_type": "code",
      "execution_count": 35,
      "metadata": {
        "id": "72ZA54IDYTp5",
        "scrolled": true
      },
      "outputs": [],
      "source": [
        "## setting\n",
        "vector_dim = 100\n",
        "window_size = 5\n",
        "min_count = 1\n",
        "training_epochs = 20\n",
        "\n",
        "## model\n",
        "word2vec_model = Word2Vec(sentences=training_corpus,\n",
        "                          vector_size=vector_dim, window=window_size,\n",
        "                          min_count=min_count, epochs=training_epochs)"
      ]
    },
    {
      "cell_type": "markdown",
      "metadata": {
        "id": "ob0Molb3YTp5"
      },
      "source": [
        "![Imgur](https://i.imgur.com/Fca3MCs.png)"
      ]
    },
    {
      "cell_type": "markdown",
      "metadata": {
        "id": "E0jjvjN5YTp5"
      },
      "source": [
        "### 7.3 Generating word vector (embeddings)"
      ]
    },
    {
      "cell_type": "code",
      "execution_count": 36,
      "metadata": {
        "colab": {
          "base_uri": "https://localhost:8080/"
        },
        "id": "4ejofZfCYTp5",
        "outputId": "e411d498-c2cc-4b6a-9dcb-27fc7859e40b"
      },
      "outputs": [
        {
          "output_type": "execute_result",
          "data": {
            "text/plain": [
              "array([ 0.572979  ,  0.49459192, -0.01646973,  0.15191983, -0.6343206 ,\n",
              "       -0.9994657 ,  0.56078655,  1.3111664 , -0.14586571, -0.67837673,\n",
              "       -0.5977025 , -0.7464704 , -0.67340994,  0.69516814, -0.18707788,\n",
              "       -0.671631  ,  0.17967796, -0.7544442 , -0.00869815, -1.0096895 ,\n",
              "        0.7944511 ,  0.8055964 ,  0.67410713,  0.0880072 ,  0.18773223,\n",
              "       -0.01895612, -0.9264928 ,  0.36320812, -0.36532304,  0.29616657,\n",
              "       -0.11280904, -0.09246687,  0.09264833, -0.76433325, -0.11406566,\n",
              "        0.69741744,  0.22032782, -0.34128916, -0.6036979 ,  0.06040182,\n",
              "       -0.14704378, -0.33117986, -0.3509552 ,  0.17125085,  0.4899063 ,\n",
              "       -0.15790367, -1.2489601 ,  0.40107536,  0.42788982,  0.6626211 ,\n",
              "       -0.00212874, -0.50350314,  0.39221373,  0.00723254, -0.70792   ,\n",
              "       -0.00460029,  0.37601593, -0.20766208,  0.1058625 , -0.15345298,\n",
              "        0.18305731, -0.36944258,  0.7861498 ,  0.4342588 , -0.42254162,\n",
              "        0.78810567,  0.26389405,  1.0180391 , -1.2687619 ,  0.19958074,\n",
              "        0.14344187,  0.52590483,  0.050782  , -0.99296546,  0.56218886,\n",
              "        0.17725836,  0.4824158 ,  0.1589706 , -0.23817244, -0.04097143,\n",
              "       -1.0219069 , -0.6612995 , -0.5901284 ,  1.0278437 , -0.10717555,\n",
              "       -0.5465278 ,  0.4102352 ,  0.3126238 ,  0.31986555,  0.53564066,\n",
              "        1.1381909 ,  0.15549201,  0.1514647 , -0.19183414,  1.0535971 ,\n",
              "       -0.01408393,  0.24478069,  0.21093121,  0.05827178,  0.17469038],\n",
              "      dtype=float32)"
            ]
          },
          "metadata": {},
          "execution_count": 36
        }
      ],
      "source": [
        "# get the corresponding vector of a word\n",
        "word_vec = word2vec_model.wv['happy']\n",
        "word_vec"
      ]
    },
    {
      "cell_type": "code",
      "execution_count": 37,
      "metadata": {
        "colab": {
          "base_uri": "https://localhost:8080/"
        },
        "id": "9dUSkCscYTp5",
        "outputId": "ba0f94d8-6938-49c8-87a3-57388eedb2c8"
      },
      "outputs": [
        {
          "output_type": "execute_result",
          "data": {
            "text/plain": [
              "[('bday', 0.9309757947921753),\n",
              " ('Be', 0.912327229976654),\n",
              " ('birthday', 0.9089556336402893),\n",
              " (\"'be\", 0.9055818319320679),\n",
              " ('cats', 0.9033389687538147),\n",
              " ('free', 0.8993315696716309),\n",
              " ('adventure', 0.8979228734970093),\n",
              " ('O', 0.897434413433075),\n",
              " ('Really', 0.897274911403656),\n",
              " ('cry', 0.8967419862747192)]"
            ]
          },
          "metadata": {},
          "execution_count": 37
        }
      ],
      "source": [
        "# Get the most similar words\n",
        "word = 'happy'\n",
        "topn = 10\n",
        "word2vec_model.wv.most_similar(word, topn=topn)"
      ]
    },
    {
      "cell_type": "markdown",
      "metadata": {
        "id": "zuQvZVJvYTp5"
      },
      "source": [
        "### 7.4 Using a pre-trained w2v model\n",
        "\n",
        "Instead of training your own model ,you can use a model that has already been trained. Here, we see 2 ways of doing that:\n",
        "\n",
        "\n",
        "#### (1) Download model by yourself\n",
        "\n",
        "source: [GoogleNews-vectors-negative300](https://drive.google.com/file/d/0B7XkCwpI5KDYNlNUTTlSS21pQmM/view?resourcekey=0-wjGZdNAUop6WykTtMip30g)\n",
        "\n",
        "more details: https://radimrehurek.com/gensim/models/keyedvectors.html"
      ]
    },
    {
      "cell_type": "code",
      "execution_count": 38,
      "metadata": {
        "colab": {
          "base_uri": "https://localhost:8080/"
        },
        "id": "bdH9E9auYTp5",
        "outputId": "63902f19-b918-4d29-e9fb-a00e5e5f17bf"
      },
      "outputs": [
        {
          "output_type": "stream",
          "name": "stdout",
          "text": [
            "load ok\n"
          ]
        },
        {
          "output_type": "execute_result",
          "data": {
            "text/plain": [
              "[('glad', 0.7408890724182129),\n",
              " ('pleased', 0.6632170677185059),\n",
              " ('ecstatic', 0.6626912355422974),\n",
              " ('overjoyed', 0.6599286794662476),\n",
              " ('thrilled', 0.6514049172401428),\n",
              " ('satisfied', 0.6437949538230896),\n",
              " ('proud', 0.636042058467865),\n",
              " ('delighted', 0.627237856388092),\n",
              " ('disappointed', 0.6269949674606323),\n",
              " ('excited', 0.6247665286064148)]"
            ]
          },
          "metadata": {},
          "execution_count": 38
        }
      ],
      "source": [
        "## Note: this model is very huge, this will take some time ...\n",
        "model_path = \"GoogleNews/GoogleNews-vectors-negative300.bin.gz\"\n",
        "w2v_google_model = KeyedVectors.load_word2vec_format(path+model_path, binary=True)\n",
        "print('load ok')\n",
        "\n",
        "w2v_google_model.most_similar('happy', topn=10)"
      ]
    },
    {
      "cell_type": "markdown",
      "metadata": {
        "id": "NdQ9ul0eYTp5"
      },
      "source": [
        "#### (2) Using gensim api\n",
        "\n",
        "Other pretrained models are available here: https://github.com/RaRe-Technologies/gensim-data"
      ]
    },
    {
      "cell_type": "code",
      "execution_count": 39,
      "metadata": {
        "colab": {
          "base_uri": "https://localhost:8080/"
        },
        "id": "oIxHpNB6YTp5",
        "outputId": "3494b9db-5b43-47eb-f625-94e6408072f0"
      },
      "outputs": [
        {
          "output_type": "stream",
          "name": "stdout",
          "text": [
            "[==================================================] 100.0% 104.8/104.8MB downloaded\n",
            "load ok\n"
          ]
        },
        {
          "output_type": "execute_result",
          "data": {
            "text/plain": [
              "[('birthday', 0.9577818512916565),\n",
              " ('thank', 0.937666654586792),\n",
              " ('welcome', 0.93361496925354),\n",
              " ('love', 0.9176183342933655),\n",
              " ('miss', 0.9164500832557678),\n",
              " ('hello', 0.9158351421356201),\n",
              " ('thanks', 0.915008544921875),\n",
              " ('merry', 0.9053249359130859),\n",
              " ('bless', 0.902732253074646),\n",
              " ('wish', 0.9013164043426514)]"
            ]
          },
          "metadata": {},
          "execution_count": 39
        }
      ],
      "source": [
        "import gensim.downloader as api\n",
        "\n",
        "## If you see `SSL: CERTIFICATE_VERIFY_FAILED` error, use this:\n",
        "import ssl\n",
        "import urllib.request\n",
        "ssl._create_default_https_context = ssl._create_unverified_context\n",
        "\n",
        "glove_twitter_25_model = api.load(\"glove-twitter-25\")\n",
        "print('load ok')\n",
        "\n",
        "glove_twitter_25_model.most_similar('happy', topn=10)"
      ]
    },
    {
      "cell_type": "markdown",
      "metadata": {
        "id": "GCNDNqeXYTp5"
      },
      "source": [
        "### 7.5 king + woman - man = ?"
      ]
    },
    {
      "cell_type": "markdown",
      "metadata": {
        "id": "_GtCRr_7YTp5"
      },
      "source": [
        "Let's run one of the most famous examples for Word2Vec and compute the similarity between these 3 words:"
      ]
    },
    {
      "cell_type": "code",
      "execution_count": 40,
      "metadata": {
        "id": "Zew7m_kIYTp5",
        "colab": {
          "base_uri": "https://localhost:8080/"
        },
        "outputId": "2cf425fc-dc6b-450a-98b4-8547e57fa205"
      },
      "outputs": [
        {
          "output_type": "execute_result",
          "data": {
            "text/plain": [
              "[('meets', 0.8841924071311951),\n",
              " ('prince', 0.832163393497467),\n",
              " ('queen', 0.8257461190223694),\n",
              " ('’s', 0.8174097537994385),\n",
              " ('crow', 0.813499391078949),\n",
              " ('hunter', 0.8131037950515747),\n",
              " ('father', 0.8115834593772888),\n",
              " ('soldier', 0.81113600730896),\n",
              " ('mercy', 0.8082392811775208),\n",
              " ('hero', 0.8082264065742493)]"
            ]
          },
          "metadata": {},
          "execution_count": 40
        }
      ],
      "source": [
        "#w2v_google_model.most_similar(positive=['king', 'woman'], negative=['man'])\n",
        "glove_twitter_25_model.most_similar(positive=['king', 'woman'], negative=['man'])"
      ]
    },
    {
      "cell_type": "markdown",
      "metadata": {
        "id": "y3RQVnBOYTp5"
      },
      "source": [
        "##Exercise 7 (Take home):\n",
        "\n",
        "Now, we have the word vectors, but our input data is a sequence of words (or say sentence).\n",
        "How can we utilize these \"word\" vectors to represent the sentence data and train our model?\n",
        "The problem statement asks how to use word vectors to represent sentence data and train our model.\n",
        "\n",
        "(補)\n",
        "The requirement is to transform the input embedding from word vectors to sentence vectors.\n",
        "\n",
        "(You need to at least print out the input data vector and tell us why that is sentence vector instead of word vector.)\n",
        "\n",
        "However, if you want to use new training data to train the model and evaluate various input performances, it is recommended."
      ]
    },
    {
      "cell_type": "code",
      "execution_count": 41,
      "metadata": {
        "id": "TBwRT93DYTp5"
      },
      "outputs": [],
      "source": [
        "# Answer here\n",
        "# average the words in this sentence\n",
        "def get_sentence_vector_100dim(text_list):\n",
        "  len_text = len(text_list)\n",
        "  sentence_vector = np.zeros(100)\n",
        "  for word in text_list:\n",
        "    sentence_vector += word2vec_model.wv[word]\n",
        "  sentence_vector = sentence_vector/len_text\n",
        "  return sentence_vector\n",
        "train_df['sentence_vec']=train_df['text_tokenized'].apply(lambda x: get_sentence_vector_100dim(x))"
      ]
    },
    {
      "cell_type": "code",
      "source": [
        "train_df['sentence_vec'][0]"
      ],
      "metadata": {
        "colab": {
          "base_uri": "https://localhost:8080/"
        },
        "id": "v5ECChoK-aDJ",
        "outputId": "c64e5079-c1a9-4dff-acfa-e90a638039fe"
      },
      "execution_count": 42,
      "outputs": [
        {
          "output_type": "execute_result",
          "data": {
            "text/plain": [
              "array([-0.08404389,  0.34799242, -0.01665344,  0.58843283, -0.34564335,\n",
              "       -0.93618888,  0.39343172,  1.3117276 , -0.46086094, -0.70135302,\n",
              "        0.15727904, -0.75810613, -0.11923294,  0.57810119,  0.13038713,\n",
              "       -0.16792165,  0.501804  , -0.49035741, -0.15078224, -1.1958829 ,\n",
              "        0.34539969,  0.17406246,  0.52344714, -0.51746087,  0.10795125,\n",
              "       -0.18910228, -0.58311564,  0.30863977, -0.49083526, -0.16093835,\n",
              "        0.26644259,  0.05281456,  0.37362156, -0.47671248, -0.36684836,\n",
              "        0.41377307,  0.49127976, -0.2584923 , -0.45932844, -0.22804175,\n",
              "       -0.00929681, -0.09761683, -0.40623573, -0.01942664,  0.06242363,\n",
              "       -0.14439952, -0.5064393 ,  0.2950862 ,  0.3595176 ,  0.63715401,\n",
              "        0.08309736, -0.09848379, -0.1159006 ,  0.09341314, -0.22102576,\n",
              "        0.18597   ,  0.39620676, -0.32332293, -0.12169806,  0.18254725,\n",
              "        0.04593075,  0.06267136,  0.47953752, -0.00824087, -0.53749994,\n",
              "        0.57055279, -0.09631433,  0.53894766, -0.7009049 ,  0.28366618,\n",
              "        0.03121338,  0.31616513, -0.08736168, -0.5710386 ,  0.51275486,\n",
              "        0.22329495,  0.32611708,  0.25349815, -0.39244889, -0.18074352,\n",
              "       -0.38462122, -0.29781528, -0.28757023,  0.95816475, -0.15137568,\n",
              "       -0.09996722,  0.0225246 ,  0.1097807 ,  0.56900195,  0.31875754,\n",
              "        0.45245571,  0.30976122,  0.01515437,  0.13861016,  1.43803177,\n",
              "        0.34220725, -0.26925111, -0.23691606,  0.11161848,  0.28820065])"
            ]
          },
          "metadata": {},
          "execution_count": 42
        }
      ]
    },
    {
      "cell_type": "markdown",
      "metadata": {
        "id": "LrK7O1KDYTp5"
      },
      "source": [
        "## 8. Clustering: k-means\n",
        "\n",
        "Here we introduce how to use `sklearn` to do the basic **unsupervised learning** approach, k-means.    \n",
        "\n",
        "more details: http://scikit-learn.org/stable/modules/generated/sklearn.cluster.KMeans.html\n"
      ]
    },
    {
      "cell_type": "markdown",
      "metadata": {
        "id": "Hr8_IxwBYTp5"
      },
      "source": [
        "#### Basic concept\n",
        "\n",
        "![Image](https://i.imgur.com/PEdUf54.png)\n",
        "\n",
        "(img source: https://towardsdatascience.com/k-means-clustering-identifying-f-r-i-e-n-d-s-in-the-world-of-strangers-695537505d)"
      ]
    },
    {
      "cell_type": "code",
      "execution_count": 43,
      "metadata": {
        "id": "6heUPVwWYTp5",
        "colab": {
          "base_uri": "https://localhost:8080/"
        },
        "outputId": "80294847-7124-4ff1-cb3b-74b8bcbb0491"
      },
      "outputs": [
        {
          "output_type": "stream",
          "name": "stdout",
          "text": [
            "target words:  ['happy', 'fear', 'angry', 'car', 'teacher', 'computer']\n"
          ]
        }
      ],
      "source": [
        "# clustering target\n",
        "target_list = ['happy', 'fear', 'angry', 'car', 'teacher', 'computer']\n",
        "print('target words: ', target_list)\n",
        "\n",
        "# convert to word vector\n",
        "X = [word2vec_model.wv[word] for word in target_list]"
      ]
    },
    {
      "cell_type": "code",
      "execution_count": 44,
      "metadata": {
        "id": "E9t_sJrvYTp5",
        "colab": {
          "base_uri": "https://localhost:8080/"
        },
        "outputId": "fc099b5a-9af2-450a-fbf9-55b179e8b1d6"
      },
      "outputs": [
        {
          "output_type": "stream",
          "name": "stdout",
          "text": [
            "word: happy \t cluster: 0\n",
            "word: fear \t cluster: 0\n",
            "word: angry \t cluster: 0\n",
            "word: car \t cluster: 1\n",
            "word: teacher \t cluster: 1\n",
            "word: computer \t cluster: 1\n"
          ]
        }
      ],
      "source": [
        "from sklearn.cluster import KMeans\n",
        "\n",
        "# we have to decide how many cluster (k) we want\n",
        "k = 2\n",
        "\n",
        "# k-means model\n",
        "kmeans_model = KMeans(n_clusters=k)\n",
        "kmeans_model.fit(X)\n",
        "\n",
        "# cluster result\n",
        "cluster_result = kmeans_model.labels_\n",
        "\n",
        "# show\n",
        "for i in range(len(target_list)):\n",
        "    print('word: {} \\t cluster: {}'.format(target_list[i], cluster_result[i]))"
      ]
    },
    {
      "cell_type": "markdown",
      "metadata": {
        "id": "QcDTL7kRYTp5"
      },
      "source": [
        "![Imgur](pics/pic6.png)"
      ]
    },
    {
      "cell_type": "code",
      "execution_count": 45,
      "metadata": {
        "id": "NIMFax_uYTp5",
        "colab": {
          "base_uri": "https://localhost:8080/"
        },
        "outputId": "963b7532-fe68-4c79-e77e-5c7148d6fd96"
      },
      "outputs": [
        {
          "output_type": "execute_result",
          "data": {
            "text/plain": [
              "array([1], dtype=int32)"
            ]
          },
          "metadata": {},
          "execution_count": 45
        }
      ],
      "source": [
        "#check cluster membership\n",
        "word = 'student'\n",
        "word_vec = word2vec_model.wv[word]\n",
        "kmeans_model.predict([word_vec])"
      ]
    },
    {
      "cell_type": "code",
      "execution_count": 46,
      "metadata": {
        "id": "vIDuLDOlYTp5",
        "colab": {
          "base_uri": "https://localhost:8080/"
        },
        "outputId": "e2f30d82-956a-4ff9-b33c-14c8a3d180f2"
      },
      "outputs": [
        {
          "output_type": "execute_result",
          "data": {
            "text/plain": [
              "array([0], dtype=int32)"
            ]
          },
          "metadata": {},
          "execution_count": 46
        }
      ],
      "source": [
        "#check cluster membership\n",
        "word = 'sad'\n",
        "word_vec = word2vec_model.wv[word]\n",
        "kmeans_model.predict([word_vec])"
      ]
    },
    {
      "cell_type": "markdown",
      "metadata": {
        "id": "cZOEGH3GYTp5"
      },
      "source": [
        "\n",
        "## 9. High-dimension Visualization: t-SNE\n",
        "\n",
        "No matter if you use the Bag-of-words, TF-IDF, or Word2Vec, it's very hard to see the embedding result, because the dimension is larger than 3.  \n",
        "\n",
        "In Lab 1, we already talked about PCA. We can use PCA to reduce the dimension of our data, then visualize it. However, if you dig deeper into the result, you'd find it is insufficient.\n",
        "\n",
        "Our aim will be to create a visualization similar to the one below:"
      ]
    },
    {
      "cell_type": "markdown",
      "metadata": {
        "id": "4FeIFzzxYTp5"
      },
      "source": [
        "  "
      ]
    },
    {
      "cell_type": "markdown",
      "metadata": {
        "id": "3-JR-rqyYTp5"
      },
      "source": [
        "![Image](pics/pic7.png)\n",
        "source: https://www.fabian-keller.de/research/high-dimensional-data-visualization"
      ]
    },
    {
      "cell_type": "markdown",
      "metadata": {
        "id": "KCFR771SYTp5"
      },
      "source": [
        "  "
      ]
    },
    {
      "cell_type": "markdown",
      "metadata": {
        "id": "tmdbJbjxYTp5"
      },
      "source": [
        "Here we would like to introduce another visualization method called t-SNE.  \n",
        "http://scikit-learn.org/stable/modules/generated/sklearn.manifold.TSNE.html"
      ]
    },
    {
      "cell_type": "markdown",
      "metadata": {
        "id": "MU8eeDnGYTp5"
      },
      "source": [
        "### 9.1 Prepare visualizing target"
      ]
    },
    {
      "cell_type": "markdown",
      "metadata": {
        "id": "T9IHcP3VYTp5"
      },
      "source": [
        "Let's prepare data lists like:\n",
        "- happy words\n",
        "- angry words\n",
        "- data words\n",
        "- mining words"
      ]
    },
    {
      "cell_type": "code",
      "execution_count": 47,
      "metadata": {
        "colab": {
          "base_uri": "https://localhost:8080/"
        },
        "id": "L9il5L7pYTp5",
        "outputId": "6b13c072-29d1-4d70-a01b-922f62dd757b"
      },
      "outputs": [
        {
          "output_type": "stream",
          "name": "stdout",
          "text": [
            "happy_words:  ['happy', 'glad', 'pleased', 'ecstatic', 'overjoyed', 'thrilled']\n",
            "angry_words:  ['angry', 'irate', 'enraged', 'indignant', 'incensed', 'annoyed']\n",
            "data_words:  ['data', 'Data', 'datasets', 'dataset', 'databases', 'statistics']\n",
            "mining_words:  ['mining', 'Mining', 'mines', 'coal_mining', 'mine', 'miner']\n",
            "\n",
            "target words: \n",
            "['happy', 'glad', 'pleased', 'ecstatic', 'overjoyed', 'thrilled', 'angry', 'irate', 'enraged', 'indignant', 'incensed', 'annoyed', 'data', 'Data', 'datasets', 'dataset', 'databases', 'statistics', 'mining', 'Mining', 'mines', 'coal_mining', 'mine', 'miner']\n",
            "\n",
            "color list:\n",
            "['b', 'b', 'b', 'b', 'b', 'b', 'g', 'g', 'g', 'g', 'g', 'g', 'r', 'r', 'r', 'r', 'r', 'r', 'y', 'y', 'y', 'y', 'y', 'y']\n"
          ]
        }
      ],
      "source": [
        "word_list = ['happy', 'angry', 'data', 'mining']\n",
        "\n",
        "topn = 5\n",
        "happy_words = ['happy'] + [word_ for word_, sim_ in w2v_google_model.most_similar('happy', topn=topn)]\n",
        "angry_words = ['angry'] + [word_ for word_, sim_ in w2v_google_model.most_similar('angry', topn=topn)]\n",
        "data_words = ['data'] + [word_ for word_, sim_ in w2v_google_model.most_similar('data', topn=topn)]\n",
        "mining_words = ['mining'] + [word_ for word_, sim_ in w2v_google_model.most_similar('mining', topn=topn)]\n",
        "\n",
        "print('happy_words: ', happy_words)\n",
        "print('angry_words: ', angry_words)\n",
        "print('data_words: ', data_words)\n",
        "print('mining_words: ', mining_words)\n",
        "\n",
        "target_words = happy_words + angry_words + data_words + mining_words\n",
        "print('\\ntarget words: ')\n",
        "print(target_words)\n",
        "\n",
        "print('\\ncolor list:')\n",
        "cn = topn + 1\n",
        "color = ['b'] * cn + ['g'] * cn + ['r'] * cn + ['y'] * cn\n",
        "print(color)"
      ]
    },
    {
      "cell_type": "markdown",
      "metadata": {
        "id": "zKa5LRxbYTp5"
      },
      "source": [
        "### 9.2 Plot using t-SNE (2-dimension)"
      ]
    },
    {
      "cell_type": "code",
      "execution_count": 48,
      "metadata": {
        "colab": {
          "base_uri": "https://localhost:8080/",
          "height": 0
        },
        "id": "CJlljN2gYTp5",
        "outputId": "83eb92da-ac06-42a8-c1bd-67435d521762"
      },
      "outputs": [
        {
          "output_type": "display_data",
          "data": {
            "text/plain": [
              "<Figure size 862.5x862.5 with 1 Axes>"
            ],
            "image/png": "[encoded data removed]"
          },
          "metadata": {}
        }
      ],
      "source": [
        "%matplotlib inline\n",
        "import matplotlib.pyplot as plt\n",
        "from sklearn.manifold import TSNE\n",
        "\n",
        "## w2v model\n",
        "model = w2v_google_model\n",
        "\n",
        "## prepare training word vectors\n",
        "size = 200\n",
        "target_size = len(target_words)\n",
        "all_word = list(model.index_to_key)\n",
        "word_train = target_words + all_word[:size]\n",
        "X_train = model[word_train]\n",
        "\n",
        "## t-SNE model\n",
        "tsne = TSNE(n_components=2, metric='cosine', random_state=28)\n",
        "\n",
        "## training\n",
        "X_tsne = tsne.fit_transform(X_train)\n",
        "\n",
        "## plot the result\n",
        "plt.figure(figsize=(7.5, 7.5), dpi=115)\n",
        "plt.scatter(X_tsne[:target_size, 0], X_tsne[:target_size, 1], c=color)\n",
        "for label, x, y in zip(target_words, X_tsne[:target_size, 0], X_tsne[:target_size, 1]):\n",
        "    plt.annotate(label, xy=(x,y), xytext=(0,0),  textcoords='offset points')\n",
        "plt.show()"
      ]
    },
    {
      "cell_type": "code",
      "source": [
        "print(\"word_train:\", word_train[20:30])\n",
        "print(\"len_word_train:\", len(word_train))\n",
        "print(\"len_all_word:\", len(all_word))\n",
        "print(X_train.shape)"
      ],
      "metadata": {
        "colab": {
          "base_uri": "https://localhost:8080/"
        },
        "id": "jGFtIWd2sMzl",
        "outputId": "c8d69f82-333e-4517-bb98-4b5a1e76db0b"
      },
      "execution_count": 49,
      "outputs": [
        {
          "output_type": "stream",
          "name": "stdout",
          "text": [
            "word_train: ['mines', 'coal_mining', 'mine', 'miner', '</s>', 'in', 'for', 'that', 'is', 'on']\n",
            "len_word_train: 224\n",
            "len_all_word: 3000000\n",
            "(224, 300)\n"
          ]
        }
      ]
    },
    {
      "cell_type": "markdown",
      "metadata": {
        "id": "2PL61rqYYTp5"
      },
      "source": [
        "##Exercise 8 (Take home):\n",
        "\n",
        "Generate a t-SNE visualization to show the 15 words most related to the words \"angry\", \"happy\", \"sad\", \"fear\" (60 words total)."
      ]
    },
    {
      "cell_type": "code",
      "execution_count": 50,
      "metadata": {
        "id": "rvh7ymeNYTp5",
        "colab": {
          "base_uri": "https://localhost:8080/",
          "height": 0
        },
        "outputId": "ec6400f5-3f54-47a9-e414-beacdb7e436d"
      },
      "outputs": [
        {
          "output_type": "stream",
          "name": "stdout",
          "text": [
            "\n",
            "target words:  ['angry', 'irate', 'enraged', 'indignant', 'incensed', 'annoyed', 'agitated', 'frustrated', 'furious', 'unhappy', 'outraged', 'livid', 'irritated', 'exasperated', 'angrier', 'Angry', 'happy', 'glad', 'pleased', 'ecstatic', 'overjoyed', 'thrilled', 'satisfied', 'proud', 'delighted', 'disappointed', 'excited', 'happier', 'Said_Hirschbeck', 'elated', 'thankful', 'unhappy', 'sad', 'saddening', 'Sad', 'saddened', 'heartbreaking', 'disheartening', 'Meny_Friedman', 'parishioner_Pat_Patello', 'saddens_me', 'distressing', 'reminders_bobbing', 'Turkoman_Shiites', 'saddest', 'unfortunate', 'sorry', 'bittersweet', 'fear', 'fearful', 'fears', 'Fear', 'fearing', 'worry', 'dread', 'feared', 'anxiety', 'apprehension', 'afraid', 'worries', 'concern', 'distrust', 'worried', 'Fearful']\n",
            "len target words:  64\n"
          ]
        },
        {
          "output_type": "display_data",
          "data": {
            "text/plain": [
              "<Figure size 1150x862.5 with 1 Axes>"
            ],
            "image/png": "[encoded data removed]"
          },
          "metadata": {}
        }
      ],
      "source": [
        "# Answer here\n",
        "# create 60 words list\n",
        "word_list = ['angry', 'happy', 'sad', 'fear']\n",
        "topn = 15\n",
        "target_words=[]\n",
        "for chose_word in word_list:\n",
        "  target_words.extend([chose_word])\n",
        "  target_words.extend([word_ for word_, sim_ in w2v_google_model.most_similar(chose_word, topn=topn)])\n",
        "print('\\ntarget words: ', target_words)\n",
        "print('len target words: ', len(target_words))\n",
        "\n",
        "# create color list\n",
        "cn = topn + 1\n",
        "color = ['b'] * cn + ['g'] * cn + ['r'] * cn + ['y'] * cn\n",
        "#print('\\ncolor list:', color)\n",
        "\n",
        "# import\n",
        "%matplotlib inline\n",
        "import matplotlib.pyplot as plt\n",
        "from sklearn.manifold import TSNE\n",
        "\n",
        "## w2v model\n",
        "model = w2v_google_model\n",
        "\n",
        "## prepare training word vectors\n",
        "size = 200\n",
        "target_size = len(target_words)\n",
        "all_word = list(model.index_to_key)\n",
        "word_train = target_words + all_word[:size]\n",
        "X_train = model[word_train]\n",
        "\n",
        "## t-SNE model\n",
        "tsne = TSNE(n_components=2, metric='cosine', random_state=28)\n",
        "\n",
        "## training\n",
        "X_tsne = tsne.fit_transform(X_train)\n",
        "\n",
        "## plot the result\n",
        "plt.figure(figsize=(10, 7.5), dpi=115)\n",
        "plt.scatter(X_tsne[:target_size, 0], X_tsne[:target_size, 1], c=color)\n",
        "for label, x, y in zip(target_words, X_tsne[:target_size, 0], X_tsne[:target_size, 1]):\n",
        "    plt.annotate(label, xy=(x,y), xytext=(0,0),  textcoords='offset points')\n",
        "plt.show()"
      ]
    },
    {
      "cell_type": "markdown",
      "metadata": {
        "id": "_fF1woa8YTp5"
      },
      "source": [
        "---"
      ]
    },
    {
      "cell_type": "markdown",
      "source": [
        "#Kaggle model(use kaggle notebook)"
      ],
      "metadata": {
        "id": "d_hJhckwkvsv"
      }
    },
    {
      "cell_type": "markdown",
      "source": [
        "##load data and make token"
      ],
      "metadata": {
        "id": "yMdphJXWlC1h"
      }
    },
    {
      "cell_type": "code",
      "source": [
        "my_path = '/kaggle/input/lab2data/'\n",
        "data_ident = pd.read_csv(my_path+\"data_identification.csv\")\n",
        "emotion = pd.read_csv(my_path+\"emotion.csv\")\n",
        "filejson = open(my_path+\"tweets_DM.json\", \"r\")\n",
        "jsonlines = []\n",
        "for line in filejson.readlines():\n",
        "    dic = js.loads(line)\n",
        "    jsonlines.append(dic)\n",
        "filejson.close()\n",
        "df_nested_list = pd.json_normalize(jsonlines)\n",
        "df = copy.deepcopy(df_nested_list.loc[:,['_score', '_crawldate', '_source.tweet.hashtags', '_source.tweet.tweet_id', '_source.tweet.text']])\n",
        "df = df.rename({'_source.tweet.tweet_id':'tweet_id', '_source.tweet.hashtags':'hashtags', '_source.tweet.text':'text', '_score':'score'}, axis='columns')"
      ],
      "metadata": {
        "id": "SdmNZNOsk266"
      },
      "execution_count": null,
      "outputs": []
    },
    {
      "cell_type": "code",
      "source": [
        "df['text_token'] = df['text'].apply(lambda x: nltk.word_tokenize(x))\n",
        "df['text_token'] = df['text_token'].apply(lambda x: x.tolist())"
      ],
      "metadata": {
        "id": "RCor0aCPlQ9M"
      },
      "execution_count": null,
      "outputs": []
    },
    {
      "cell_type": "markdown",
      "source": [
        "##split into train data, test data, validation data"
      ],
      "metadata": {
        "id": "6xJaBqkxmW9l"
      }
    },
    {
      "cell_type": "code",
      "source": [
        "df_merg = pd.merge(df, data_ident, on=['tweet_id', 'tweet_id'])\n",
        "train_data = pd.merge(df_merg[df_merg[\"identification\"]=='train'], emotion, on=['tweet_id', 'tweet_id'])\n",
        "test_data = df_merg[df_merg[\"identification\"]=='test']\n",
        "x_train, x_val, y_train, y_val = train_test_split(train_data.loc[:,['score','hashtags','text_token']], train_data['emotion'], test_size=0.25, random_state=33)"
      ],
      "metadata": {
        "id": "FaFvU9XmmL_w"
      },
      "execution_count": null,
      "outputs": []
    },
    {
      "cell_type": "markdown",
      "source": [
        "##label encoding"
      ],
      "metadata": {
        "id": "TylaR6CUm2mO"
      }
    },
    {
      "cell_type": "code",
      "source": [
        "label_encoder = LabelEncoder()\n",
        "label_encoder.fit(y_train)\n",
        "print('check label: ', label_encoder.classes_)\n",
        "\n",
        "def label_encode(le, labels):\n",
        "    enc = le.transform(labels)\n",
        "    return keras.utils.to_categorical(enc)\n",
        "\n",
        "def label_decode(le, one_hot_label):\n",
        "    dec = np.argmax(one_hot_label, axis=1)\n",
        "    return le.inverse_transform(dec)\n",
        "\n",
        "y_train = label_encode(label_encoder, y_train)\n",
        "y_val = label_encode(label_encoder, y_val)"
      ],
      "metadata": {
        "id": "ijUgTGQom40m"
      },
      "execution_count": null,
      "outputs": []
    },
    {
      "cell_type": "markdown",
      "source": [
        "![image.png](data:image/png;base64,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)"
      ],
      "metadata": {
        "id": "97Ti-IDRnGFL"
      }
    },
    {
      "cell_type": "markdown",
      "source": [
        "##Word2Vec and get feature"
      ],
      "metadata": {
        "id": "YdLL4j0LnJLA"
      }
    },
    {
      "cell_type": "code",
      "source": [
        "from gensim.models import Word2Vec\n",
        "training_corpus=x_train['text_token'].values\n",
        "display(training_corpus[:3])\n",
        "dim_size = 200\n",
        "word2vec_model = Word2Vec(sentences=training_corpus, vector_size=dim_size, epochs=20, window=5, min_count=1)"
      ],
      "metadata": {
        "id": "6TDtyWRznIj_"
      },
      "execution_count": null,
      "outputs": []
    },
    {
      "cell_type": "code",
      "source": [
        "def get_sent_vec(model, text_list):\n",
        "    len_text = len(text_list)\n",
        "    sentence_vector = np.zeros(dim_size)\n",
        "    if len_text ==0:\n",
        "        return sentence_vector\n",
        "    for word in text_list:\n",
        "        if word in model.wv:\n",
        "            sentence_vector += model.wv[word]\n",
        "    sentence_vector = sentence_vector/len_text\n",
        "    return sentence_vector\n",
        "\n",
        "def get_feature(data, alpha=0.4):\n",
        "    data['sent_vec'] = data['text_token'].apply(lambda x: get_sent_vec(word2vec_model,x))\n",
        "    data['tags_vec'] = data['hashtags'].apply(lambda x: get_sent_vec(word2vec_model,x))\n",
        "    return alpha*data['sent_vec']+(1-alpha)*data['tags_vec']"
      ],
      "metadata": {
        "id": "YYc_8YaAnah6"
      },
      "execution_count": null,
      "outputs": []
    },
    {
      "cell_type": "code",
      "source": [
        "x_train_feature = np.vstack(get_feature(x_train).values)\n",
        "x_val_feature = np.vstack(get_feature(x_val).values)\n",
        "x_test_feature = np.vstack(get_feature(test_data) .values)"
      ],
      "metadata": {
        "id": "4Y6ATZbtnkTM"
      },
      "execution_count": null,
      "outputs": []
    },
    {
      "cell_type": "markdown",
      "source": [
        "##first XGboost model"
      ],
      "metadata": {
        "id": "2wcmnhtNnrXa"
      }
    },
    {
      "cell_type": "code",
      "source": [
        "xgboostModel = XGBClassifier(n_estimators=150, learning_rate= 0.3)\n",
        "# 使用訓練資料訓練模型\n",
        "xgboostModel.fit(x_train_feature, y_train)\n",
        "# 使用訓練資料預測分類\n",
        "predicted_proba = xgboostModel.predict_proba(x_val_feature)\n",
        "\n",
        "# 預測成功的比例\n",
        "print('訓練集: ',xgboostModel.score(x_train_feature, y_train))\n",
        "print('測試集: ',xgboostModel.score(x_val_feature, y_val))"
      ],
      "metadata": {
        "colab": {
          "base_uri": "https://localhost:8080/",
          "height": 247
        },
        "id": "4qzjhNwPnzrO",
        "outputId": "3f2410bf-a291-499a-f021-4bc67edaddcf"
      },
      "execution_count": null,
      "outputs": [
        {
          "output_type": "error",
          "ename": "NameError",
          "evalue": "ignored",
          "traceback": [
            "\u001b[0;31m---------------------------------------------------------------------------\u001b[0m",
            "\u001b[0;31mNameError\u001b[0m                                 Traceback (most recent call last)",
            "\u001b[0;32m<ipython-input-73-6ea6c42d4677>\u001b[0m in \u001b[0;36m<cell line: 3>\u001b[0;34m()\u001b[0m\n\u001b[1;32m      1\u001b[0m \u001b[0mxgboostModel\u001b[0m \u001b[0;34m=\u001b[0m \u001b[0mXGBClassifier\u001b[0m\u001b[0;34m(\u001b[0m\u001b[0mn_estimators\u001b[0m\u001b[0;34m=\u001b[0m\u001b[0;36m150\u001b[0m\u001b[0;34m,\u001b[0m \u001b[0mlearning_rate\u001b[0m\u001b[0;34m=\u001b[0m \u001b[0;36m0.3\u001b[0m\u001b[0;34m)\u001b[0m\u001b[0;34m\u001b[0m\u001b[0;34m\u001b[0m\u001b[0m\n\u001b[1;32m      2\u001b[0m \u001b[0;31m# 使用訓練資料訓練模型\u001b[0m\u001b[0;34m\u001b[0m\u001b[0;34m\u001b[0m\u001b[0m\n\u001b[0;32m----> 3\u001b[0;31m \u001b[0mxgboostModel\u001b[0m\u001b[0;34m.\u001b[0m\u001b[0mfit\u001b[0m\u001b[0;34m(\u001b[0m\u001b[0mx_train_feature\u001b[0m\u001b[0;34m,\u001b[0m \u001b[0my_train\u001b[0m\u001b[0;34m)\u001b[0m\u001b[0;34m\u001b[0m\u001b[0;34m\u001b[0m\u001b[0m\n\u001b[0m\u001b[1;32m      4\u001b[0m \u001b[0;31m# 使用訓練資料預測分類\u001b[0m\u001b[0;34m\u001b[0m\u001b[0;34m\u001b[0m\u001b[0m\n\u001b[1;32m      5\u001b[0m \u001b[0mpredicted_proba\u001b[0m \u001b[0;34m=\u001b[0m \u001b[0mxgboostModel\u001b[0m\u001b[0;34m.\u001b[0m\u001b[0mpredict_proba\u001b[0m\u001b[0;34m(\u001b[0m\u001b[0mx_val_feature\u001b[0m\u001b[0;34m)\u001b[0m\u001b[0;34m\u001b[0m\u001b[0;34m\u001b[0m\u001b[0m\n",
            "\u001b[0;31mNameError\u001b[0m: name 'x_train_feature' is not defined"
          ]
        }
      ]
    },
    {
      "cell_type": "code",
      "source": [
        "predicted_proba_test = xgboostModel.predict_proba(x_test_feature)\n",
        "pred_result = label_decode(label_encoder, predicted_proba_test)\n",
        "submissions = pd.DataFrame( data={'id':test_data['tweet_id'].reset_index(drop=True),\n",
        "                                  'emotion':pred_result,})\n",
        "#display(submissions)\n",
        "submissions.to_csv(\"/kaggle/working/submission_xgb.csv\",index=False)"
      ],
      "metadata": {
        "id": "vroUxYlwn8Y1"
      },
      "execution_count": null,
      "outputs": []
    },
    {
      "cell_type": "markdown",
      "source": [
        "##model"
      ],
      "metadata": {
        "id": "nPD9vrBon1gg"
      }
    },
    {
      "cell_type": "code",
      "source": [
        "# input layer\n",
        "model_input = Input(shape=(dim_size, ))  # 100\n",
        "X = model_input\n",
        "# 1st hidden layer\n",
        "X_W1 = Dense(units=64)(X)  # 64\n",
        "H1 = ReLU()(X_W1)\n",
        "# 2nd hidden layer\n",
        "H1_W2 = Dense(units=32)(H1)  # 64\n",
        "H2 = ReLU()(H1_W2)\n",
        "# output layer\n",
        "H2_W3 = Dense(units=8)(H2)  # 8\n",
        "H3 = Softmax()(H2_W3)\n",
        "\n",
        "model_output = H3\n",
        "\n",
        "# create model\n",
        "model = Model(inputs=[model_input], outputs=[model_output])\n",
        "\n",
        "# loss function & optimizer\n",
        "model.compile(optimizer='adam', loss='categorical_crossentropy', metrics=['accuracy'])\n",
        "\n",
        "# show model construction\n",
        "model.summary()"
      ],
      "metadata": {
        "id": "DGoaZeQXoEfs"
      },
      "execution_count": null,
      "outputs": []
    },
    {
      "cell_type": "code",
      "source": [
        "csv_logger = CSVLogger('/kaggle/working/training_log.csv')\n",
        "\n",
        "# training setting\n",
        "epochs = 25\n",
        "batch_size = 32\n",
        "\n",
        "# training!\n",
        "history = model.fit(x_train_feature, y_train,\n",
        "                    epochs=epochs,\n",
        "                    batch_size=batch_size,\n",
        "                    callbacks=[csv_logger],\n",
        "                    validation_data = (x_val_feature, y_val))\n",
        "print('training finish')"
      ],
      "metadata": {
        "id": "EVowjxzNofaR"
      },
      "execution_count": null,
      "outputs": []
    },
    {
      "cell_type": "code",
      "source": [
        "training_log = pd.DataFrame()\n",
        "training_log = pd.read_csv(\"/kaggle/working/training_log.csv\")\n",
        "training_log"
      ],
      "metadata": {
        "id": "XVbjbWgOopuA"
      },
      "execution_count": null,
      "outputs": []
    },
    {
      "cell_type": "code",
      "source": [
        "pred_result = model.predict(x_test_feature, batch_size=128)\n",
        "pred_result_label = label_decode(label_encoder, pred_result)\n",
        "submissions = pd.DataFrame( data={'id':test_data['tweet_id'].reset_index(drop=True),\n",
        "                                  'emotion':pred_result_label,})\n",
        "submissions.to_csv(\"/kaggle/working/submission_model.csv\",index=False)"
      ],
      "metadata": {
        "id": "BnrD6Hesoz2g"
      },
      "execution_count": null,
      "outputs": []
    },
    {
      "cell_type": "markdown",
      "source": [
        "##second XGboost model"
      ],
      "metadata": {
        "id": "gG81HvwSoTJq"
      }
    },
    {
      "cell_type": "code",
      "source": [
        "x_result = model.predict(x_train_feature, batch_size=128)\n",
        "# 建立 XGBClassifier 模型\n",
        "xgboostModel = XGBClassifier(n_estimators=150, learning_rate= 0.3)\n",
        "# 使用訓練資料訓練模型\n",
        "xgboostModel.fit(x_result, y_train_label)\n",
        "# 使用訓練資料預測分類\n",
        "predicted = xgboostModel.predict(pred_result)\n",
        "pred_result_2 = np.array(emo_list[x] for x in predicted)\n",
        "submissions = pd.DataFrame( data={'id':test_data['tweet_id'].reset_index(drop=True),\n",
        "                                  'emotion':pred_result_2,})\n",
        "display(submissions)\n",
        "submissions.to_csv(\"/kaggle/working/submission_model_XGB.csv\",index=False)\n",
        "# 預測成功的比例\n",
        "#print('訓練集: ',xgboostModel.score(x_train_feature, y_train_label))\n",
        "#print('測試集: ',xgboostModel.score(x_val_feature, y_val_label))"
      ],
      "metadata": {
        "id": "4LIm_C95oSfW"
      },
      "execution_count": null,
      "outputs": []
    },
    {
      "cell_type": "markdown",
      "source": [
        "#finish"
      ],
      "metadata": {
        "id": "RJ3zPeWwk1wv"
      }
    }
  ],
  "metadata": {
    "colab": {
      "collapsed_sections": [
        "LIpAqCvMYTpX",
        "uuutyCx4YTpX",
        "op_X7pR-YTpX",
        "escCgU1zYTpX",
        "hgHvhTJuYTpo",
        "fj6TV4ngYTpo",
        "e0BvbNAVYTpo",
        "iBNmBT50YTpo",
        "l743vmwgYTpo",
        "GaHpgl87YTpo",
        "Xv2DqWQSYTpo",
        "fiGUSmPLYTpo",
        "NoYqY0-tYTp5",
        "4e5eiVLOYTp5",
        "IESBq48MYTp5",
        "y3RQVnBOYTp5",
        "LrK7O1KDYTp5",
        "cZOEGH3GYTp5",
        "2PL61rqYYTp5",
        "d_hJhckwkvsv",
        "yMdphJXWlC1h",
        "6xJaBqkxmW9l",
        "TylaR6CUm2mO",
        "YdLL4j0LnJLA",
        "2wcmnhtNnrXa",
        "nPD9vrBon1gg",
        "gG81HvwSoTJq"
      ],
      "provenance": []
    },
    "kernelspec": {
      "display_name": "Python 3 (ipykernel)",
      "language": "python",
      "name": "python3"
    },
    "language_info": {
      "codemirror_mode": {
        "name": "ipython",
        "version": 3
      },
      "file_extension": ".py",
      "mimetype": "text/x-python",
      "name": "python",
      "nbconvert_exporter": "python",
      "pygments_lexer": "ipython3",
      "version": "3.9.6"
    },
    "varInspector": {
      "cols": {
        "lenName": 16,
        "lenType": 16,
        "lenVar": 40
      },
      "kernels_config": {
        "python": {
          "delete_cmd_postfix": "",
          "delete_cmd_prefix": "del ",
          "library": "var_list.py",
          "varRefreshCmd": "print(var_dic_list())"
        },
        "r": {
          "delete_cmd_postfix": ") ",
          "delete_cmd_prefix": "rm(",
          "library": "var_list.r",
          "varRefreshCmd": "cat(var_dic_list()) "
        }
      },
      "oldHeight": 594.85,
      "position": {
        "height": "40px",
        "left": "723px",
        "right": "20px",
        "top": "80px",
        "width": "250px"
      },
      "types_to_exclude": [
        "module",
        "function",
        "builtin_function_or_method",
        "instance",
        "_Feature"
      ],
      "varInspector_section_display": "none",
      "window_display": true
    }
  },
  "nbformat": 4,
  "nbformat_minor": 0
}
